{
 "cells": [
  {
   "cell_type": "markdown",
   "metadata": {
    "id": "7XrkNgd6Vuer"
   },
   "source": [
    "# FinBert - Pre-trained NLP model to analyze sentiment of financial text\n",
    "- https://huggingface.co/ProsusAI/finbert\n",
    "- https://www.researchgate.net/post/Do_you_need_to_preprocess_text_for_BERT (preproccessing is not needed)\n",
    "\n"
   ]
  },
  {
   "cell_type": "code",
   "execution_count": null,
   "metadata": {},
   "outputs": [],
   "source": [
    "from transformers import BertTokenizer, BertForSequenceClassification\n",
    "import torch\n",
    "import pandas as pd\n",
    "import re"
   ]
  },
  {
   "cell_type": "code",
   "execution_count": 3,
   "metadata": {
    "id": "1sfWUFmrOApn"
   },
   "outputs": [],
   "source": [
    "# Load data\n",
    "bnb_all_sentiment = pd.read_csv('/content/drive/MyDrive/Colab Notebooks/FINTECH/Colab/Import/bnb_sentiment.csv')\n",
    "ada_all_sentiment = pd.read_csv('/content/drive/MyDrive/Colab Notebooks/FINTECH/Colab/Import/ada_sentiment.csv')\n",
    "btc_all_sentiment = pd.read_csv('/content/drive/MyDrive/Colab Notebooks/FINTECH/Colab/Import/btc_sentiment.csv' )#,header=None, names=['coin','section','title','text','url','source','date','time','language','word_count','char_count','average_word_length','stopword_count','stopword_rate','preprocessed_text','polarity_TextBlob','sentiment_TextBlob','subjectivity_TextBlob','polarity_scores_vader','compound','neg_score','neu_score','pos_score','sentiment_vader'])\n",
    "eth_all_sentiment = pd.read_csv('/content/drive/MyDrive/Colab Notebooks/FINTECH/Colab/Import/eth_sentiment.csv')\n",
    "xrp_all_sentiment = pd.read_csv('/content/drive/MyDrive/Colab Notebooks/FINTECH/Colab/Import/xrp_sentiment.csv')"
   ]
  },
  {
   "cell_type": "markdown",
   "metadata": {
    "id": "MYRnxeifOAtS"
   },
   "source": [
    "Maximum sequence length of BERT is 512. In https://arxiv.org/pdf/1905.05583.pdf head+tail (empirically select the first 128 and the last 382 tokens) achieved the best performance on the IMDb dataset (Type: Sentiment)."
   ]
  },
  {
   "cell_type": "code",
   "execution_count": 2,
   "metadata": {
    "id": "DFGVvAETT1n0"
   },
   "outputs": [],
   "source": [
    "def head_tail(text):\n",
    "    #https://data-dive.com/german-nlp-binary-text-classification-of-reviews-part1\n",
    "    # Remove whitespace pattern\n",
    "    RE_WSPACE = re.compile(r\"\\s+\", re.IGNORECASE)\n",
    "    # Remove html tags pattern\n",
    "    RE_TAGS = re.compile(r\"<[^>]+>\")\n",
    "    # Remove special character pattern\n",
    "    RE_ASCII = re.compile(r\"[^A-Za-zÀ-ž ]\", re.IGNORECASE)\n",
    "    # Remove hyperlinks pattern\n",
    "    RE_HYPERLINKS = re.compile(r'https?://\\S+',re.IGNORECASE)\n",
    "    \n",
    "    text = re.sub(RE_TAGS, \" \", text)\n",
    "    text = re.sub(RE_ASCII, \" \", text)\n",
    "    text = re.sub(RE_WSPACE, \" \", text)\n",
    "    text = re.sub(RE_HYPERLINKS, \" \", text)\n",
    "    \n",
    "    # select forst 128 and last 382 tokens\n",
    "    text = text[:128] + text[-382:]\n",
    "    return text"
   ]
  },
  {
   "cell_type": "code",
   "execution_count": 4,
   "metadata": {
    "id": "qudSxsJzSjhv"
   },
   "outputs": [],
   "source": [
    "bnb_all_sentiment['finBert_text'] = bnb_all_sentiment.text.apply(lambda x :head_tail(x))\n",
    "ada_all_sentiment['finBert_text'] = ada_all_sentiment.text.apply(lambda x :head_tail(x))\n",
    "btc_all_sentiment['finBert_text'] = btc_all_sentiment.text.apply(lambda x :head_tail(x))\n",
    "eth_all_sentiment['finBert_text'] = eth_all_sentiment.text.apply(lambda x :head_tail(x))\n",
    "xrp_all_sentiment['finBert_text'] = xrp_all_sentiment.text.apply(lambda x :head_tail(x))"
   ]
  },
  {
   "cell_type": "code",
   "execution_count": 5,
   "metadata": {
    "id": "j7IERNIPw3dH"
   },
   "outputs": [],
   "source": [
    "# Setup model\n",
    "model = BertForSequenceClassification.from_pretrained(\"ProsusAI/finbert\")\n",
    "tokenizer = BertTokenizer.from_pretrained(\"ProsusAI/finbert\")\n"
   ]
  },
  {
   "cell_type": "markdown",
   "metadata": {
    "id": "pyxd-IhhZclX"
   },
   "source": [
    "## < 512 Token (text)"
   ]
  },
  {
   "cell_type": "code",
   "execution_count": 6,
   "metadata": {
    "id": "wBnhcwoJa_MB"
   },
   "outputs": [],
   "source": [
    "# Function to calculate sentiment\n",
    "def sentiment_score(text):\n",
    "  tokens = tokenizer.encode_plus(text, return_tensors='pt')[\"input_ids\"]\n",
    "  output = model(tokens)\n",
    "  probs = torch.nn.functional.softmax(output[0], dim=-1)\n",
    "  mean = probs.mean(dim=0)\n",
    "  positive, negative, neutral = float(f'{mean[0]:.3f}'), float(f'{mean[1]:.3f}'), float(f'{mean[2]:.3f}')\n",
    "  result = torch.argmax(mean).item()\n",
    "  return positive, negative, neutral, result\n"
   ]
  },
  {
   "cell_type": "code",
   "execution_count": 7,
   "metadata": {
    "colab": {
     "base_uri": "https://localhost:8080/"
    },
    "id": "TCAlM-V9bWtu",
    "outputId": "171a0ed0-e863-4b3c-ddcc-f488442b22dd"
   },
   "outputs": [
    {
     "name": "stdout",
     "output_type": "stream",
     "text": [
      "CPU times: user 2min 2s, sys: 7.49 s, total: 2min 10s\n",
      "Wall time: 2min 12s\n"
     ]
    }
   ],
   "source": [
    "%%time\n",
    "bnb_all_sentiment = bnb_all_sentiment.join(bnb_all_sentiment.finBert_text.apply(lambda x: sentiment_score(x[:512]))\n",
    "                                            .apply(pd.Series)\n",
    "                                            .rename(columns={0: 'fin_sentiment_positive',\n",
    "                                                             1: 'fin_sentiment_negative',\n",
    "                                                             2: 'fin_sentiment_neutral',\n",
    "                                                             3: 'fin_sentiment_label'}))"
   ]
  },
  {
   "cell_type": "code",
   "execution_count": 8,
   "metadata": {
    "id": "FVSmXcxpWfuZ"
   },
   "outputs": [],
   "source": [
    "bnb_all_sentiment.to_csv('/content/drive/MyDrive/Colab Notebooks/FINTECH/Colab/Export/bnb_all_sentiment.csv',index=False)"
   ]
  },
  {
   "cell_type": "code",
   "execution_count": 9,
   "metadata": {
    "colab": {
     "base_uri": "https://localhost:8080/"
    },
    "id": "kG3xmgPelmg_",
    "outputId": "a7a186e2-0cad-4147-a3e3-249146f66341"
   },
   "outputs": [
    {
     "name": "stdout",
     "output_type": "stream",
     "text": [
      "CPU times: user 11min 39s, sys: 29.7 s, total: 12min 8s\n",
      "Wall time: 12min 11s\n"
     ]
    }
   ],
   "source": [
    "%%time\n",
    "ada_all_sentiment = ada_all_sentiment.join(ada_all_sentiment.finBert_text.apply(lambda x: sentiment_score(x[:512]))\n",
    "                                            .apply(pd.Series)\n",
    "                                            .rename(columns={0: 'fin_sentiment_positive',\n",
    "                                                             1: 'fin_sentiment_negative',\n",
    "                                                             2: 'fin_sentiment_neutral',\n",
    "                                                             3: 'fin_sentiment_label'}))"
   ]
  },
  {
   "cell_type": "code",
   "execution_count": 10,
   "metadata": {
    "id": "nbxlhfMSn5X9"
   },
   "outputs": [],
   "source": [
    "ada_all_sentiment.to_csv('/content/drive/MyDrive/Colab Notebooks/FINTECH/Colab/Export/ada_all_sentiment.csv',index=False)"
   ]
  },
  {
   "cell_type": "code",
   "execution_count": 11,
   "metadata": {
    "colab": {
     "base_uri": "https://localhost:8080/"
    },
    "id": "Wv0MDzM5lo1T",
    "outputId": "61c9bf6e-12e1-4976-f4b3-412f11de5eed"
   },
   "outputs": [
    {
     "name": "stdout",
     "output_type": "stream",
     "text": [
      "CPU times: user 27min 34s, sys: 50.1 s, total: 28min 24s\n",
      "Wall time: 28min 26s\n"
     ]
    }
   ],
   "source": [
    "%%time\n",
    "xrp_all_sentiment = xrp_all_sentiment.join(xrp_all_sentiment.finBert_text.apply(lambda x: sentiment_score(x[:512]))\n",
    "                                            .apply(pd.Series)\n",
    "                                            .rename(columns={0: 'fin_sentiment_positive',\n",
    "                                                             1: 'fin_sentiment_negative',\n",
    "                                                             2: 'fin_sentiment_neutral',\n",
    "                                                             3: 'fin_sentiment_label'}))"
   ]
  },
  {
   "cell_type": "code",
   "execution_count": 12,
   "metadata": {
    "id": "w9kTaZ2dn7u5"
   },
   "outputs": [],
   "source": [
    "xrp_all_sentiment.to_csv('/content/drive/MyDrive/Colab Notebooks/FINTECH/Colab/Export/xrp_all_sentiment.csv',index=False)"
   ]
  },
  {
   "cell_type": "code",
   "execution_count": 13,
   "metadata": {
    "colab": {
     "base_uri": "https://localhost:8080/"
    },
    "id": "P-xHXY-ilpSd",
    "outputId": "ef85698f-2199-4f4d-b356-1e4ff8917d69"
   },
   "outputs": [
    {
     "name": "stdout",
     "output_type": "stream",
     "text": [
      "CPU times: user 35min 34s, sys: 57.9 s, total: 36min 32s\n",
      "Wall time: 36min 36s\n"
     ]
    }
   ],
   "source": [
    "%%time\n",
    "eth_all_sentiment = eth_all_sentiment.join(eth_all_sentiment.finBert_text.apply(lambda x: sentiment_score(x[:512]))\n",
    "                                            .apply(pd.Series)\n",
    "                                            .rename(columns={0: 'fin_sentiment_positive',\n",
    "                                                             1: 'fin_sentiment_negative',\n",
    "                                                             2: 'fin_sentiment_neutral',\n",
    "                                                             3: 'fin_sentiment_label'}))"
   ]
  },
  {
   "cell_type": "code",
   "execution_count": 14,
   "metadata": {
    "id": "24F2N459n9i-"
   },
   "outputs": [],
   "source": [
    "eth_all_sentiment.to_csv('/content/drive/MyDrive/Colab Notebooks/FINTECH/Colab/Export/eth_all_sentiment.csv',index=False)"
   ]
  },
  {
   "cell_type": "code",
   "execution_count": 15,
   "metadata": {
    "colab": {
     "base_uri": "https://localhost:8080/"
    },
    "id": "4DtJMnjbnXRS",
    "outputId": "f7edd493-8164-4c78-81ef-33e1e9dc8f41"
   },
   "outputs": [
    {
     "name": "stdout",
     "output_type": "stream",
     "text": [
      "CPU times: user 3h 58min 2s, sys: 3min 15s, total: 4h 1min 17s\n",
      "Wall time: 4h 1min 58s\n"
     ]
    }
   ],
   "source": [
    "%%time\n",
    "btc_all_sentiment = btc_all_sentiment.join(btc_all_sentiment.finBert_text.apply(lambda x: sentiment_score(x[:512]))\n",
    "                                            .apply(pd.Series)\n",
    "                                            .rename(columns={0: 'fin_sentiment_positive',\n",
    "                                                             1: 'fin_sentiment_negative',\n",
    "                                                             2: 'fin_sentiment_neutral',\n",
    "                                                             3: 'fin_sentiment_label'}))"
   ]
  },
  {
   "cell_type": "code",
   "execution_count": 16,
   "metadata": {
    "id": "XGNHpHsdrAcV"
   },
   "outputs": [],
   "source": [
    "btc_all_sentiment.to_csv('/content/drive/MyDrive/Colab Notebooks/FINTECH/Colab/Export/btc_all_sentiment.csv',index=False)"
   ]
  },
  {
   "cell_type": "markdown",
   "metadata": {
    "id": "98XIK7FsZRS2"
   },
   "source": [
    "## > 512 Token (text) Test\n",
    "- https://www.youtube.com/watch?v=yDGo9z_RlnE\n",
    "- https://towardsdatascience.com/how-to-apply-transformers-to-any-length-of-text-a5601410af7f\n"
   ]
  },
  {
   "cell_type": "code",
   "execution_count": null,
   "metadata": {
    "id": "ZyxIhGogJaDG"
   },
   "outputs": [],
   "source": [
    "# def sentiment_score_all_token(text):\n",
    "#   if not text.strip():\n",
    "#     return {}\n",
    "\n",
    "#   tokens = tokenizer.encode_plus(text, add_special_tokens=False,\n",
    "#                                return_tensors='pt')\n",
    "#   input_id_chunks = tokens['input_ids'][0].split(510)\n",
    "#   mask_chunks = tokens['attention_mask'][0].split(510)\n",
    "  \n",
    "#   input_dict = preprocess_inputs_and_run_model(input_id_chunks,mask_chunks )\n",
    "#   return input_dict"
   ]
  },
  {
   "cell_type": "code",
   "execution_count": null,
   "metadata": {
    "id": "bqydpDe2J_Vd"
   },
   "outputs": [],
   "source": [
    "# def preprocess_inputs_and_run_model(input_id_chunks,mask_chunks ):\n",
    "#   chunksize = 512\n",
    "\n",
    "#   # change from tuple to list, tuple=umutable\n",
    "#   input_id_chunks = list(input_id_chunks)\n",
    "#   mask_chunks = list(mask_chunks)\n",
    "\n",
    "#   for i in range(len(input_id_chunks)):\n",
    "#     input_id_chunks[i] = torch.cat([\n",
    "#         torch.Tensor([101]), input_id_chunks[i], torch.Tensor([102])\n",
    "#     ])\n",
    "#     # attention mask can only be 0 or 1\n",
    "#       # 1 = real token -> pay attention to it\n",
    "#       # 0 = padding token (ignore padding)\n",
    "#     mask_chunks[i] = torch.cat([\n",
    "#         torch.Tensor([1]), mask_chunks[i], torch.Tensor([1])\n",
    "#     ])\n",
    "    \n",
    "#     pad_len = chunksize - input_id_chunks[i].shape[0]\n",
    "#     if pad_len > 0:\n",
    "#       input_id_chunks[i] = torch.cat([\n",
    "#           input_id_chunks[i], torch.Tensor([0] * pad_len)\n",
    "#       ])\n",
    "#       mask_chunks[i] = torch.cat([\n",
    "#           mask_chunks[i], torch.Tensor([0] * pad_len)\n",
    "#       ])\n",
    "\n",
    "#   input_ids = torch.stack(input_id_chunks)\n",
    "#   attention_mask = torch.stack(mask_chunks)\n",
    "\n",
    "#   input_dict= {\n",
    "#       'input_ids': input_ids.long(),\n",
    "#       'attention_mask': attention_mask.int()\n",
    "#   }\n",
    "    \n",
    "#   return input_dict\n"
   ]
  },
  {
   "cell_type": "code",
   "execution_count": null,
   "metadata": {
    "colab": {
     "base_uri": "https://localhost:8080/"
    },
    "id": "ig8Ge8sAL8Fx",
    "outputId": "a16990df-e00f-4f38-d08a-adfa00a842a3"
   },
   "outputs": [
    {
     "name": "stderr",
     "output_type": "stream",
     "text": [
      "Token indices sequence length is longer than the specified maximum sequence length for this model (1962 > 512). Running this sequence through the model will result in indexing errors\n"
     ]
    },
    {
     "name": "stdout",
     "output_type": "stream",
     "text": [
      "CPU times: user 21.7 s, sys: 24.6 ms, total: 21.7 s\n",
      "Wall time: 22.2 s\n"
     ]
    }
   ],
   "source": [
    "# %%time\n",
    "# #sentiment_score(bnb_all_sentiment.text.iloc[0])\n",
    "# input_dict = ada_all_sentiment.text.apply(lambda x:sentiment_score_all_token(x))"
   ]
  },
  {
   "cell_type": "code",
   "execution_count": null,
   "metadata": {
    "colab": {
     "base_uri": "https://localhost:8080/"
    },
    "id": "qlSVtO4jL7_o",
    "outputId": "4ad9e67a-6ee3-4e51-fcbf-3a51953f6050"
   },
   "outputs": [
    {
     "name": "stdout",
     "output_type": "stream",
     "text": [
      "CPU times: user 20.4 s, sys: 519 ms, total: 20.9 s\n",
      "Wall time: 21.2 s\n"
     ]
    }
   ],
   "source": [
    "# %%time\n",
    "# bnb_finbert_values = []\n",
    "# bnb_finbert_labels = []\n",
    "\n",
    "\n",
    "# for i in range(0, 3): # range(len(input_dict):\n",
    "#   output = model(**input_dict.get(i))\n",
    "#   probs = torch.nn.functional.softmax(output[0], dim=-1)\n",
    "#   mean = probs.mean(dim=0)\n",
    "#   bnb_finbert_values.append(mean)\n",
    "#   result = torch.argmax(mean).item()\n",
    "#   bnb_finbert_labels.append(result)\n",
    "\n",
    "# #batch_size = 10\n",
    "# # results = []\n",
    "# # for i in range(0, len(input_dict), batch_size):\n",
    "# #   input_batch = input_dict[i:i+batch_size][i]\n",
    "# #   output_batch = model(**input_batch)\n",
    "# #   results.append(output_batch)\n",
    "\n",
    "# # output = torch.cat(results)\n"
   ]
  },
  {
   "cell_type": "code",
   "execution_count": null,
   "metadata": {
    "colab": {
     "base_uri": "https://localhost:8080/"
    },
    "id": "Rfi6zMKPVF0m",
    "outputId": "7601e7b7-d24b-447f-ec00-f420a74509dc"
   },
   "outputs": [
    {
     "data": {
      "text/plain": [
       "[tensor([0.0549, 0.0675, 0.8776], grad_fn=<MeanBackward1>),\n",
       " tensor([0.0424, 0.0203, 0.9373], grad_fn=<MeanBackward1>),\n",
       " tensor([0.6172, 0.0120, 0.3708], grad_fn=<MeanBackward1>)]"
      ]
     },
     "execution_count": 9,
     "metadata": {},
     "output_type": "execute_result"
    }
   ],
   "source": [
    "# bnb_finbert_values"
   ]
  },
  {
   "cell_type": "code",
   "execution_count": null,
   "metadata": {
    "colab": {
     "base_uri": "https://localhost:8080/"
    },
    "id": "iovtnbJ5L79C",
    "outputId": "a77c73ac-17e2-446f-db4e-a7dec2b38821"
   },
   "outputs": [
    {
     "data": {
      "text/plain": [
       "[2, 2, 0]"
      ]
     },
     "execution_count": 10,
     "metadata": {},
     "output_type": "execute_result"
    }
   ],
   "source": [
    "# # 0 = positive\n",
    "# # 1 = negative\n",
    "# # 2 = neutral\n",
    "# bnb_finbert_labels"
   ]
  }
 ],
 "metadata": {
  "colab": {
   "collapsed_sections": [
    "R2qc2KxLW2F_",
    "98XIK7FsZRS2"
   ],
   "provenance": []
  },
  "gpuClass": "standard",
  "kernelspec": {
   "display_name": "Python 3 (ipykernel)",
   "language": "python",
   "name": "python3"
  },
  "language_info": {
   "codemirror_mode": {
    "name": "ipython",
    "version": 3
   },
   "file_extension": ".py",
   "mimetype": "text/x-python",
   "name": "python",
   "nbconvert_exporter": "python",
   "pygments_lexer": "ipython3",
   "version": "3.10.0"
  }
 },
 "nbformat": 4,
 "nbformat_minor": 1
}
