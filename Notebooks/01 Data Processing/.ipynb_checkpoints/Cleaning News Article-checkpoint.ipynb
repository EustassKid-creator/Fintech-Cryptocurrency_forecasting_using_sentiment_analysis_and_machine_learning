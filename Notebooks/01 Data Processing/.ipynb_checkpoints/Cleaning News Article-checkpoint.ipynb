{
 "cells": [
  {
   "cell_type": "code",
   "execution_count": 1,
   "id": "570a4db0",
   "metadata": {},
   "outputs": [],
   "source": [
    "import os\n",
    "import pandas as pd\n",
    "from langdetect import detect_langs\n",
    "from langdetect import detect_langs, LangDetectException\n",
    "import numpy as np\n",
    "# consisten results for language detection\n",
    "from langdetect import DetectorFactory\n",
    "DetectorFactory.seed = 0"
   ]
  },
  {
   "cell_type": "code",
   "execution_count": 38,
   "id": "2f2ab916",
   "metadata": {},
   "outputs": [],
   "source": [
    "# Information about the coin-datasets\n",
    "def coin_details(coin_data :dict) -> str:\n",
    "    for k,v in coin_data.items():\n",
    "        print(k)\n",
    "        print('Unique dates:', v.date.nunique())\n",
    "        min_date = min(v.date)\n",
    "        max_date = max(v.date)\n",
    "        years = (max_date - min_date).total_seconds() / (365.2425 * 24 * 60 * 60)\n",
    "        print(f'Articles over {years} Years')\n",
    "        print('\\n')"
   ]
  },
  {
   "cell_type": "code",
   "execution_count": 39,
   "id": "e88323dd",
   "metadata": {},
   "outputs": [],
   "source": [
    "# Detect text language\n",
    "def detect_languages(df: pd.DataFrame, column: str) -> pd.Series:\n",
    "    def detect_language(text: str) -> str:\n",
    "        try:\n",
    "            language = detect_langs(text)\n",
    "        except LangDetectException as e:\n",
    "            return \"unknown\"\n",
    "        else:\n",
    "            return language[0].lang\n",
    "    return df[column].apply(detect_language)"
   ]
  },
  {
   "cell_type": "code",
   "execution_count": 4,
   "id": "e4280ee3",
   "metadata": {},
   "outputs": [],
   "source": [
    "BASE_DIR =os.path.dirname(os.path.dirname(os.getcwd()))\n",
    "DATA_DIR_ARTICLE = os.path.join(BASE_DIR, 'Datasets\\Article')"
   ]
  },
  {
   "cell_type": "markdown",
   "id": "20d18613",
   "metadata": {},
   "source": [
    "# Coindesk data"
   ]
  },
  {
   "cell_type": "code",
   "execution_count": 5,
   "id": "fb5b68a7",
   "metadata": {},
   "outputs": [],
   "source": [
    "article = 'article_content_coindesk.json'\n",
    "path = os.path.join(DATA_DIR_ARTICLE, article)"
   ]
  },
  {
   "cell_type": "code",
   "execution_count": 6,
   "id": "61496151",
   "metadata": {},
   "outputs": [],
   "source": [
    "coindesk_df = pd.read_json(path)"
   ]
  },
  {
   "cell_type": "code",
   "execution_count": 7,
   "id": "b36138d6",
   "metadata": {
    "scrolled": false
   },
   "outputs": [
    {
     "data": {
      "text/html": [
       "<div>\n",
       "<style scoped>\n",
       "    .dataframe tbody tr th:only-of-type {\n",
       "        vertical-align: middle;\n",
       "    }\n",
       "\n",
       "    .dataframe tbody tr th {\n",
       "        vertical-align: top;\n",
       "    }\n",
       "\n",
       "    .dataframe thead th {\n",
       "        text-align: right;\n",
       "    }\n",
       "</style>\n",
       "<table border=\"1\" class=\"dataframe\">\n",
       "  <thead>\n",
       "    <tr style=\"text-align: right;\">\n",
       "      <th></th>\n",
       "      <th>date</th>\n",
       "      <th>coin</th>\n",
       "      <th>section</th>\n",
       "      <th>title</th>\n",
       "      <th>text</th>\n",
       "      <th>url</th>\n",
       "    </tr>\n",
       "  </thead>\n",
       "  <tbody>\n",
       "    <tr>\n",
       "      <th>0</th>\n",
       "      <td>Dec 5, 2022 at 12:40 p.m. UTC</td>\n",
       "      <td>bitcoin</td>\n",
       "      <td>Features</td>\n",
       "      <td>The Punk Fighting for an Open Metaverse</td>\n",
       "      <td>Punk6529 is living the future, today. At least...</td>\n",
       "      <td>https://www.coindesk.com/consensus-magazine/20...</td>\n",
       "    </tr>\n",
       "    <tr>\n",
       "      <th>1</th>\n",
       "      <td>Mar 29, 2022 at 2:01 p.m. UTC</td>\n",
       "      <td>bitcoin</td>\n",
       "      <td>Business</td>\n",
       "      <td>Prime Trust, Swan Bitcoin Link Up on Crypto IR...</td>\n",
       "      <td>Fintech firm  Prime Trust  on Tuesday announce...</td>\n",
       "      <td>https://www.coindesk.com/business/2022/03/29/p...</td>\n",
       "    </tr>\n",
       "    <tr>\n",
       "      <th>2</th>\n",
       "      <td>Jan 12, 2021 at 9:08 a.m. UTC</td>\n",
       "      <td>bitcoin</td>\n",
       "      <td>Markets</td>\n",
       "      <td>Bitcoin Whales Kept Accumulating During Monday...</td>\n",
       "      <td>Large bitcoin (BTC) investors, popularly known...</td>\n",
       "      <td>https://www.coindesk.com/markets/2021/01/12/bi...</td>\n",
       "    </tr>\n",
       "    <tr>\n",
       "      <th>3</th>\n",
       "      <td>Sep 27, 2022 at 1:22 p.m. UTC</td>\n",
       "      <td>bitcoin</td>\n",
       "      <td>Markets</td>\n",
       "      <td>First Mover Americas: Bitcoin Regains $20K, Bu...</td>\n",
       "      <td>Price Point:  Bitcoin has managed to regain th...</td>\n",
       "      <td>https://www.coindesk.com/markets/2022/09/27/fi...</td>\n",
       "    </tr>\n",
       "    <tr>\n",
       "      <th>4</th>\n",
       "      <td>Jan 27, 2017 at 4:55 p.m. UTC</td>\n",
       "      <td>bitcoin</td>\n",
       "      <td>Features</td>\n",
       "      <td>Avoiding Catastrophe: Researchers Face Blockch...</td>\n",
       "      <td>stanford 'Catastrophe' may have been the word ...</td>\n",
       "      <td>https://www.coindesk.com/markets/2017/01/27/av...</td>\n",
       "    </tr>\n",
       "  </tbody>\n",
       "</table>\n",
       "</div>"
      ],
      "text/plain": [
       "                            date     coin   section  \\\n",
       "0  Dec 5, 2022 at 12:40 p.m. UTC  bitcoin  Features   \n",
       "1  Mar 29, 2022 at 2:01 p.m. UTC  bitcoin  Business   \n",
       "2  Jan 12, 2021 at 9:08 a.m. UTC  bitcoin   Markets   \n",
       "3  Sep 27, 2022 at 1:22 p.m. UTC  bitcoin   Markets   \n",
       "4  Jan 27, 2017 at 4:55 p.m. UTC  bitcoin  Features   \n",
       "\n",
       "                                               title  \\\n",
       "0            The Punk Fighting for an Open Metaverse   \n",
       "1  Prime Trust, Swan Bitcoin Link Up on Crypto IR...   \n",
       "2  Bitcoin Whales Kept Accumulating During Monday...   \n",
       "3  First Mover Americas: Bitcoin Regains $20K, Bu...   \n",
       "4  Avoiding Catastrophe: Researchers Face Blockch...   \n",
       "\n",
       "                                                text  \\\n",
       "0  Punk6529 is living the future, today. At least...   \n",
       "1  Fintech firm  Prime Trust  on Tuesday announce...   \n",
       "2  Large bitcoin (BTC) investors, popularly known...   \n",
       "3  Price Point:  Bitcoin has managed to regain th...   \n",
       "4  stanford 'Catastrophe' may have been the word ...   \n",
       "\n",
       "                                                 url  \n",
       "0  https://www.coindesk.com/consensus-magazine/20...  \n",
       "1  https://www.coindesk.com/business/2022/03/29/p...  \n",
       "2  https://www.coindesk.com/markets/2021/01/12/bi...  \n",
       "3  https://www.coindesk.com/markets/2022/09/27/fi...  \n",
       "4  https://www.coindesk.com/markets/2017/01/27/av...  "
      ]
     },
     "execution_count": 7,
     "metadata": {},
     "output_type": "execute_result"
    }
   ],
   "source": [
    "coindesk_df.head()"
   ]
  },
  {
   "cell_type": "code",
   "execution_count": 8,
   "id": "8ee603bc",
   "metadata": {},
   "outputs": [
    {
     "data": {
      "text/html": [
       "<div>\n",
       "<style scoped>\n",
       "    .dataframe tbody tr th:only-of-type {\n",
       "        vertical-align: middle;\n",
       "    }\n",
       "\n",
       "    .dataframe tbody tr th {\n",
       "        vertical-align: top;\n",
       "    }\n",
       "\n",
       "    .dataframe thead th {\n",
       "        text-align: right;\n",
       "    }\n",
       "</style>\n",
       "<table border=\"1\" class=\"dataframe\">\n",
       "  <thead>\n",
       "    <tr style=\"text-align: right;\">\n",
       "      <th></th>\n",
       "      <th>date</th>\n",
       "      <th>coin</th>\n",
       "      <th>section</th>\n",
       "      <th>title</th>\n",
       "      <th>text</th>\n",
       "      <th>url</th>\n",
       "    </tr>\n",
       "  </thead>\n",
       "  <tbody>\n",
       "    <tr>\n",
       "      <th>27831</th>\n",
       "      <td>Jul 3, 2020 at 10:09 a.m. UTC</td>\n",
       "      <td>cardano</td>\n",
       "      <td>Business</td>\n",
       "      <td>Cardano Developer IOHK Launches $20M Fund for ...</td>\n",
       "      <td>Cardano developer house IOHK has set up a $20 ...</td>\n",
       "      <td>https://www.coindesk.com/business/2020/07/03/c...</td>\n",
       "    </tr>\n",
       "    <tr>\n",
       "      <th>27832</th>\n",
       "      <td>Jul 30, 2020 at 8:14 a.m. UTC</td>\n",
       "      <td>cardano</td>\n",
       "      <td>Tech</td>\n",
       "      <td>Cardano Introduces Proof-of-Stake With 'Shelle...</td>\n",
       "      <td>It's alive! Cardano's blockchain has undergone...</td>\n",
       "      <td>https://www.coindesk.com/tech/2020/07/30/carda...</td>\n",
       "    </tr>\n",
       "    <tr>\n",
       "      <th>27833</th>\n",
       "      <td>Apr 22, 2021 at 7:10 p.m. UTC</td>\n",
       "      <td>cardano</td>\n",
       "      <td>Business</td>\n",
       "      <td>21Shares Launching Stellar and Cardano ETPs on...</td>\n",
       "      <td>Switzerland-based investment product provider ...</td>\n",
       "      <td>https://www.coindesk.com/business/2021/04/22/2...</td>\n",
       "    </tr>\n",
       "    <tr>\n",
       "      <th>27834</th>\n",
       "      <td>Jul 3, 2020 at 2:06 p.m. UTC</td>\n",
       "      <td>cardano</td>\n",
       "      <td>Markets</td>\n",
       "      <td>Coinbase Custody to Support Secure Cardano Sta...</td>\n",
       "      <td>Cardano holders will soon be able to stake tok...</td>\n",
       "      <td>https://www.coindesk.com/markets/2020/07/03/co...</td>\n",
       "    </tr>\n",
       "    <tr>\n",
       "      <th>27835</th>\n",
       "      <td>May 28, 2021 at 1:55 p.m. UTC</td>\n",
       "      <td>cardano</td>\n",
       "      <td>Markets</td>\n",
       "      <td>21Shares to List Three Crypto ETPs on Euronext...</td>\n",
       "      <td>Switzerland-based investment product provider ...</td>\n",
       "      <td>https://www.coindesk.com/markets/2021/05/28/21...</td>\n",
       "    </tr>\n",
       "  </tbody>\n",
       "</table>\n",
       "</div>"
      ],
      "text/plain": [
       "                                date     coin   section  \\\n",
       "27831  Jul 3, 2020 at 10:09 a.m. UTC  cardano  Business   \n",
       "27832  Jul 30, 2020 at 8:14 a.m. UTC  cardano      Tech   \n",
       "27833  Apr 22, 2021 at 7:10 p.m. UTC  cardano  Business   \n",
       "27834   Jul 3, 2020 at 2:06 p.m. UTC  cardano   Markets   \n",
       "27835  May 28, 2021 at 1:55 p.m. UTC  cardano   Markets   \n",
       "\n",
       "                                                   title  \\\n",
       "27831  Cardano Developer IOHK Launches $20M Fund for ...   \n",
       "27832  Cardano Introduces Proof-of-Stake With 'Shelle...   \n",
       "27833  21Shares Launching Stellar and Cardano ETPs on...   \n",
       "27834  Coinbase Custody to Support Secure Cardano Sta...   \n",
       "27835  21Shares to List Three Crypto ETPs on Euronext...   \n",
       "\n",
       "                                                    text  \\\n",
       "27831  Cardano developer house IOHK has set up a $20 ...   \n",
       "27832  It's alive! Cardano's blockchain has undergone...   \n",
       "27833  Switzerland-based investment product provider ...   \n",
       "27834  Cardano holders will soon be able to stake tok...   \n",
       "27835  Switzerland-based investment product provider ...   \n",
       "\n",
       "                                                     url  \n",
       "27831  https://www.coindesk.com/business/2020/07/03/c...  \n",
       "27832  https://www.coindesk.com/tech/2020/07/30/carda...  \n",
       "27833  https://www.coindesk.com/business/2021/04/22/2...  \n",
       "27834  https://www.coindesk.com/markets/2020/07/03/co...  \n",
       "27835  https://www.coindesk.com/markets/2021/05/28/21...  "
      ]
     },
     "execution_count": 8,
     "metadata": {},
     "output_type": "execute_result"
    }
   ],
   "source": [
    "coindesk_df.tail()"
   ]
  },
  {
   "cell_type": "code",
   "execution_count": 9,
   "id": "83580b86",
   "metadata": {},
   "outputs": [
    {
     "name": "stdout",
     "output_type": "stream",
     "text": [
      "<class 'pandas.core.frame.DataFrame'>\n",
      "RangeIndex: 27836 entries, 0 to 27835\n",
      "Data columns (total 6 columns):\n",
      " #   Column   Non-Null Count  Dtype \n",
      "---  ------   --------------  ----- \n",
      " 0   date     27835 non-null  object\n",
      " 1   coin     27836 non-null  object\n",
      " 2   section  27721 non-null  object\n",
      " 3   title    27835 non-null  object\n",
      " 4   text     27836 non-null  object\n",
      " 5   url      27836 non-null  object\n",
      "dtypes: object(6)\n",
      "memory usage: 1.3+ MB\n"
     ]
    }
   ],
   "source": [
    "coindesk_df.info()"
   ]
  },
  {
   "cell_type": "code",
   "execution_count": 10,
   "id": "bd73b9a3",
   "metadata": {},
   "outputs": [
    {
     "data": {
      "text/plain": [
       "(27836, 6)"
      ]
     },
     "execution_count": 10,
     "metadata": {},
     "output_type": "execute_result"
    }
   ],
   "source": [
    "coindesk_df.shape"
   ]
  },
  {
   "cell_type": "code",
   "execution_count": 11,
   "id": "a9f75251",
   "metadata": {
    "scrolled": true
   },
   "outputs": [
    {
     "name": "stdout",
     "output_type": "stream",
     "text": [
      "url        27836\n",
      "title      27833\n",
      "text       27819\n",
      "date       27457\n",
      "section       18\n",
      "coin           5\n",
      "dtype: int64\n"
     ]
    }
   ],
   "source": [
    "#Unique values\n",
    "print(coindesk_df.nunique().sort_values(ascending=False))"
   ]
  },
  {
   "cell_type": "code",
   "execution_count": 12,
   "id": "742039c8",
   "metadata": {},
   "outputs": [
    {
     "name": "stdout",
     "output_type": "stream",
     "text": [
      "Coins: ['bitcoin' 'xrp' 'ethereum' 'binance' 'cardano']\n",
      "Section: ['Features' 'Business' 'Markets' 'Opinion' 'Policy' 'News Analysis' 'Tech'\n",
      " 'Reports' 'Layer 2' None 'Interview' 'Consensus Magazine' 'Profile'\n",
      " 'Web3' 'Sports Week' 'CoinDesk' 'Learn' 'Events' 'Mining Week']\n"
     ]
    }
   ],
   "source": [
    "print('Coins:', coindesk_df.coin.unique())\n",
    "print('Section:', coindesk_df.section.unique())"
   ]
  },
  {
   "cell_type": "markdown",
   "id": "a3a5531c",
   "metadata": {},
   "source": [
    "## Clean Coindesk data"
   ]
  },
  {
   "cell_type": "code",
   "execution_count": 13,
   "id": "776e1a35",
   "metadata": {},
   "outputs": [],
   "source": [
    "coindesk_abt = coindesk_df.copy()"
   ]
  },
  {
   "cell_type": "code",
   "execution_count": 14,
   "id": "5561e876",
   "metadata": {},
   "outputs": [],
   "source": [
    "coindesk_abt = coindesk_abt.rename(columns={'date':'datetime'})"
   ]
  },
  {
   "cell_type": "code",
   "execution_count": 15,
   "id": "a1d49f7f",
   "metadata": {},
   "outputs": [],
   "source": [
    "coindesk_abt['source'] = 'coindesk'"
   ]
  },
  {
   "cell_type": "code",
   "execution_count": 16,
   "id": "d2c08616",
   "metadata": {},
   "outputs": [
    {
     "name": "stdout",
     "output_type": "stream",
     "text": [
      "<class 'pandas.core.frame.DataFrame'>\n",
      "RangeIndex: 27836 entries, 0 to 27835\n",
      "Data columns (total 7 columns):\n",
      " #   Column    Non-Null Count  Dtype \n",
      "---  ------    --------------  ----- \n",
      " 0   datetime  27835 non-null  object\n",
      " 1   coin      27836 non-null  object\n",
      " 2   section   27721 non-null  object\n",
      " 3   title     27835 non-null  object\n",
      " 4   text      27836 non-null  object\n",
      " 5   url       27836 non-null  object\n",
      " 6   source    27836 non-null  object\n",
      "dtypes: object(7)\n",
      "memory usage: 1.5+ MB\n"
     ]
    }
   ],
   "source": [
    "coindesk_abt.info()"
   ]
  },
  {
   "cell_type": "code",
   "execution_count": 17,
   "id": "17a16f3e",
   "metadata": {},
   "outputs": [
    {
     "data": {
      "text/plain": [
       "False"
      ]
     },
     "execution_count": 17,
     "metadata": {},
     "output_type": "execute_result"
    }
   ],
   "source": [
    "# Checking for duplicates\n",
    "coindesk_abt.duplicated().any()"
   ]
  },
  {
   "cell_type": "code",
   "execution_count": 18,
   "id": "a76da57d",
   "metadata": {
    "scrolled": true
   },
   "outputs": [
    {
     "data": {
      "text/plain": [
       "datetime     True\n",
       "coin        False\n",
       "section      True\n",
       "title        True\n",
       "text        False\n",
       "url         False\n",
       "source      False\n",
       "dtype: bool"
      ]
     },
     "execution_count": 18,
     "metadata": {},
     "output_type": "execute_result"
    }
   ],
   "source": [
    "# Checking for missing values\n",
    "coindesk_abt.isna().any()"
   ]
  },
  {
   "cell_type": "markdown",
   "id": "7b5480cf",
   "metadata": {},
   "source": [
    "Feature: text"
   ]
  },
  {
   "cell_type": "code",
   "execution_count": 19,
   "id": "64f03270",
   "metadata": {},
   "outputs": [],
   "source": [
    "mask = coindesk_abt[coindesk_abt.text==\"\"].index\n",
    "coindesk_abt = coindesk_abt.drop(mask, axis=0)"
   ]
  },
  {
   "cell_type": "markdown",
   "id": "311f2ddb",
   "metadata": {},
   "source": [
    "Feature: title"
   ]
  },
  {
   "cell_type": "code",
   "execution_count": 20,
   "id": "8391e4cc",
   "metadata": {},
   "outputs": [],
   "source": [
    "# Delete row with missing title\n",
    "mask = coindesk_abt[coindesk_abt.title.isna()]\n",
    "coindesk_abt = coindesk_abt.drop(mask.index, axis=0)"
   ]
  },
  {
   "cell_type": "markdown",
   "id": "a58e2284",
   "metadata": {},
   "source": [
    "Feature: section "
   ]
  },
  {
   "cell_type": "code",
   "execution_count": 21,
   "id": "1385fce7",
   "metadata": {},
   "outputs": [
    {
     "data": {
      "text/html": [
       "<div>\n",
       "<style scoped>\n",
       "    .dataframe tbody tr th:only-of-type {\n",
       "        vertical-align: middle;\n",
       "    }\n",
       "\n",
       "    .dataframe tbody tr th {\n",
       "        vertical-align: top;\n",
       "    }\n",
       "\n",
       "    .dataframe thead th {\n",
       "        text-align: right;\n",
       "    }\n",
       "</style>\n",
       "<table border=\"1\" class=\"dataframe\">\n",
       "  <thead>\n",
       "    <tr style=\"text-align: right;\">\n",
       "      <th></th>\n",
       "      <th>datetime</th>\n",
       "      <th>coin</th>\n",
       "      <th>section</th>\n",
       "      <th>title</th>\n",
       "      <th>text</th>\n",
       "      <th>url</th>\n",
       "      <th>source</th>\n",
       "    </tr>\n",
       "  </thead>\n",
       "  <tbody>\n",
       "    <tr>\n",
       "      <th>181</th>\n",
       "      <td>Updated Aug 1, 2022 at 9:04 p.m. UTC</td>\n",
       "      <td>bitcoin</td>\n",
       "      <td>None</td>\n",
       "      <td>NFT Marketplaces: A Beginner’s Guide</td>\n",
       "      <td>Do you keep hearing about people buying digita...</td>\n",
       "      <td>https://www.coindesk.com/tech/2021/07/12/nft-m...</td>\n",
       "      <td>coindesk</td>\n",
       "    </tr>\n",
       "    <tr>\n",
       "      <th>256</th>\n",
       "      <td>Jun 2, 2022</td>\n",
       "      <td>bitcoin</td>\n",
       "      <td>None</td>\n",
       "      <td>Staking Claims: Abra’s CEO Talks Passive Income</td>\n",
       "      <td>Bill Barhydt is the kind of smart person other...</td>\n",
       "      <td>https://www.coindesk.com/sponsored-content/sta...</td>\n",
       "      <td>coindesk</td>\n",
       "    </tr>\n",
       "    <tr>\n",
       "      <th>339</th>\n",
       "      <td>Dec 16, 2021</td>\n",
       "      <td>bitcoin</td>\n",
       "      <td>None</td>\n",
       "      <td>Why Gamification Will Drive Wider Blockchain A...</td>\n",
       "      <td>Once  Vitalik Buterin’s trilemma  is solved, w...</td>\n",
       "      <td>https://www.coindesk.com/sponsored-content/why...</td>\n",
       "      <td>coindesk</td>\n",
       "    </tr>\n",
       "    <tr>\n",
       "      <th>1801</th>\n",
       "      <td>Aug 28, 2021</td>\n",
       "      <td>bitcoin</td>\n",
       "      <td>None</td>\n",
       "      <td>Proof of Stake: A stake through Proof of Work’...</td>\n",
       "      <td>Proof of Work (PoW) isn’t dead. It isn’t even ...</td>\n",
       "      <td>https://www.coindesk.com/sponsored-content/pro...</td>\n",
       "      <td>coindesk</td>\n",
       "    </tr>\n",
       "    <tr>\n",
       "      <th>1986</th>\n",
       "      <td>Nov 22, 2021</td>\n",
       "      <td>bitcoin</td>\n",
       "      <td>None</td>\n",
       "      <td>Why Digital Asset Adoption in Commerce Is Gain...</td>\n",
       "      <td>A number of large companies have been adding s...</td>\n",
       "      <td>https://www.coindesk.com/sponsored-content/why...</td>\n",
       "      <td>coindesk</td>\n",
       "    </tr>\n",
       "    <tr>\n",
       "      <th>...</th>\n",
       "      <td>...</td>\n",
       "      <td>...</td>\n",
       "      <td>...</td>\n",
       "      <td>...</td>\n",
       "      <td>...</td>\n",
       "      <td>...</td>\n",
       "      <td>...</td>\n",
       "    </tr>\n",
       "    <tr>\n",
       "      <th>27302</th>\n",
       "      <td>Apr 12, 2022</td>\n",
       "      <td>ethereum</td>\n",
       "      <td>None</td>\n",
       "      <td>Why We Need a True Cross-Chain NFT Marketplace...</td>\n",
       "      <td>Price drops, regulatory crackdowns and geopoli...</td>\n",
       "      <td>https://www.coindesk.com/sponsored-content/why...</td>\n",
       "      <td>coindesk</td>\n",
       "    </tr>\n",
       "    <tr>\n",
       "      <th>27368</th>\n",
       "      <td>Dec 17, 2022</td>\n",
       "      <td>ethereum</td>\n",
       "      <td>None</td>\n",
       "      <td>Webinar Recap: Crypto Industry in 2022</td>\n",
       "      <td>In the  fallout from FTX , there’s been no sho...</td>\n",
       "      <td>https://www.coindesk.com/sponsored-content/web...</td>\n",
       "      <td>coindesk</td>\n",
       "    </tr>\n",
       "    <tr>\n",
       "      <th>27594</th>\n",
       "      <td>Aug 25, 2022</td>\n",
       "      <td>ethereum</td>\n",
       "      <td>None</td>\n",
       "      <td>‘Cauldron’ of Connections Unify Gaming, DeFi a...</td>\n",
       "      <td>Ecosystem as well as technology unites WEMIX’s...</td>\n",
       "      <td>https://www.coindesk.com/sponsored-content/cau...</td>\n",
       "      <td>coindesk</td>\n",
       "    </tr>\n",
       "    <tr>\n",
       "      <th>27610</th>\n",
       "      <td>Aug 25, 2022</td>\n",
       "      <td>ethereum</td>\n",
       "      <td>None</td>\n",
       "      <td>Starfish Finance II - Attack of the (Dapp) Clones</td>\n",
       "      <td>Clones Far beyond Earth and millions of miles ...</td>\n",
       "      <td>https://www.coindesk.com/sponsored-content/sta...</td>\n",
       "      <td>coindesk</td>\n",
       "    </tr>\n",
       "    <tr>\n",
       "      <th>27736</th>\n",
       "      <td>Feb 4, 2022</td>\n",
       "      <td>binance</td>\n",
       "      <td>None</td>\n",
       "      <td>How the Philippines Is Becoming a True Digital...</td>\n",
       "      <td>When the pioneering crypto entrepreneur Luis B...</td>\n",
       "      <td>https://www.coindesk.com/sponsored-content/how...</td>\n",
       "      <td>coindesk</td>\n",
       "    </tr>\n",
       "  </tbody>\n",
       "</table>\n",
       "<p>114 rows × 7 columns</p>\n",
       "</div>"
      ],
      "text/plain": [
       "                                   datetime      coin section  \\\n",
       "181    Updated Aug 1, 2022 at 9:04 p.m. UTC   bitcoin    None   \n",
       "256                             Jun 2, 2022   bitcoin    None   \n",
       "339                            Dec 16, 2021   bitcoin    None   \n",
       "1801                           Aug 28, 2021   bitcoin    None   \n",
       "1986                           Nov 22, 2021   bitcoin    None   \n",
       "...                                     ...       ...     ...   \n",
       "27302                          Apr 12, 2022  ethereum    None   \n",
       "27368                          Dec 17, 2022  ethereum    None   \n",
       "27594                          Aug 25, 2022  ethereum    None   \n",
       "27610                          Aug 25, 2022  ethereum    None   \n",
       "27736                           Feb 4, 2022   binance    None   \n",
       "\n",
       "                                                   title  \\\n",
       "181                 NFT Marketplaces: A Beginner’s Guide   \n",
       "256      Staking Claims: Abra’s CEO Talks Passive Income   \n",
       "339    Why Gamification Will Drive Wider Blockchain A...   \n",
       "1801   Proof of Stake: A stake through Proof of Work’...   \n",
       "1986   Why Digital Asset Adoption in Commerce Is Gain...   \n",
       "...                                                  ...   \n",
       "27302  Why We Need a True Cross-Chain NFT Marketplace...   \n",
       "27368             Webinar Recap: Crypto Industry in 2022   \n",
       "27594  ‘Cauldron’ of Connections Unify Gaming, DeFi a...   \n",
       "27610  Starfish Finance II - Attack of the (Dapp) Clones   \n",
       "27736  How the Philippines Is Becoming a True Digital...   \n",
       "\n",
       "                                                    text  \\\n",
       "181    Do you keep hearing about people buying digita...   \n",
       "256    Bill Barhydt is the kind of smart person other...   \n",
       "339    Once  Vitalik Buterin’s trilemma  is solved, w...   \n",
       "1801   Proof of Work (PoW) isn’t dead. It isn’t even ...   \n",
       "1986   A number of large companies have been adding s...   \n",
       "...                                                  ...   \n",
       "27302  Price drops, regulatory crackdowns and geopoli...   \n",
       "27368  In the  fallout from FTX , there’s been no sho...   \n",
       "27594  Ecosystem as well as technology unites WEMIX’s...   \n",
       "27610  Clones Far beyond Earth and millions of miles ...   \n",
       "27736  When the pioneering crypto entrepreneur Luis B...   \n",
       "\n",
       "                                                     url    source  \n",
       "181    https://www.coindesk.com/tech/2021/07/12/nft-m...  coindesk  \n",
       "256    https://www.coindesk.com/sponsored-content/sta...  coindesk  \n",
       "339    https://www.coindesk.com/sponsored-content/why...  coindesk  \n",
       "1801   https://www.coindesk.com/sponsored-content/pro...  coindesk  \n",
       "1986   https://www.coindesk.com/sponsored-content/why...  coindesk  \n",
       "...                                                  ...       ...  \n",
       "27302  https://www.coindesk.com/sponsored-content/why...  coindesk  \n",
       "27368  https://www.coindesk.com/sponsored-content/web...  coindesk  \n",
       "27594  https://www.coindesk.com/sponsored-content/cau...  coindesk  \n",
       "27610  https://www.coindesk.com/sponsored-content/sta...  coindesk  \n",
       "27736  https://www.coindesk.com/sponsored-content/how...  coindesk  \n",
       "\n",
       "[114 rows x 7 columns]"
      ]
     },
     "execution_count": 21,
     "metadata": {},
     "output_type": "execute_result"
    }
   ],
   "source": [
    "# Check for missing section\n",
    "coindesk_abt[coindesk_abt.section.isna()]"
   ]
  },
  {
   "cell_type": "code",
   "execution_count": 22,
   "id": "732b41e7",
   "metadata": {},
   "outputs": [
    {
     "data": {
      "text/plain": [
       "['https://www.coindesk.com/tech/2021/07/12/nft-marketplaces-a-beginners-guide/',\n",
       " 'https://www.coindesk.com/sponsored-content/staking-claims-abras-ceo-talks-passive-income/',\n",
       " 'https://www.coindesk.com/sponsored-content/why-gamification-will-drive-wider-blockchain-adoption/',\n",
       " 'https://www.coindesk.com/sponsored-content/proof-of-stake-a-stake-through-proof-of-works-heart/',\n",
       " 'https://www.coindesk.com/sponsored-content/why-digital-asset-adoption-in-commerce-is-gaining-momentum/',\n",
       " 'https://www.coindesk.com/sponsored-content/near-predictions-developers-chart-the-bridge-to-professional-freedom/',\n",
       " 'https://www.coindesk.com/tech/2022/02/10/the-top-ethereum-killers-compared/',\n",
       " 'https://www.coindesk.com/sponsored-content/itrustcapital-ensuring-quality-asset-listings/',\n",
       " 'https://www.coindesk.com/sponsored-content/demystifying-decentralization-part-2/',\n",
       " 'https://www.coindesk.com/sponsored-content/dont-settle-for-government-surveillance-coins/',\n",
       " 'https://www.coindesk.com/powered-by-consensus/consensus-history/',\n",
       " 'https://www.coindesk.com/sponsored-content/growing-compliance-adoption-making-a-safer-crypto-space/',\n",
       " 'https://www.coindesk.com/powered-by-consensus/ftx-collapse-crypto-investors-retreat/',\n",
       " 'https://www.coindesk.com/sponsored-content/developing-the-hack-proof-privacy-coin-no-picnic/',\n",
       " 'https://www.coindesk.com/sponsored-content/why-now-is-a-great-time-for-crypto-innovation/',\n",
       " 'https://www.coindesk.com/markets/como-identificar-y-protegerte-de-estafas-piramidales-realizadas-con-criptomonedas/',\n",
       " 'https://www.coindesk.com/sponsored-content/why-we-should-embrace-crypto-reporting-regulations/',\n",
       " 'https://www.coindesk.com/sponsored-content/zcashs-unique-community-led-funding-program-is-looking-to-fund-you/',\n",
       " 'https://www.coindesk.com/sponsored-content/gamefi-opens-new-paths-for-financial-inclusion/',\n",
       " 'https://www.coindesk.com/business/2021/02/04/what-is-uniswap-a-complete-beginners-guide/',\n",
       " 'https://www.coindesk.com/sponsored-content/a-practical-guide-to-cme-groups-new-micro-bitcoin-futures/',\n",
       " 'https://www.coindesk.com/sponsored-content/risk-management-in-a-bear-market-a-multifaceted-approach/',\n",
       " 'https://www.coindesk.com/sponsored-content/why-banks-are-more-serious-about-crypto-than-ever/',\n",
       " 'https://www.coindesk.com/sponsored-content/institutional-acceptance-of-crypto-is-on-the-rise-despite-market-volatility/',\n",
       " 'https://www.coindesk.com/sponsored-content/new-youhodler-data-shows-true-health-of-crypto-markets/',\n",
       " 'https://www.coindesk.com/sponsored-content/the-past-present-and-future-of-institutional-bitcoin/',\n",
       " 'https://www.coindesk.com/sponsored-content/making-bitcoin-better/',\n",
       " 'https://www.coindesk.com/sponsored-content/a-satoshi-nakamoto-nft-for-the-metaverse/',\n",
       " 'https://www.coindesk.com/sponsored-content/creating-a-hyperdeflationary-new-token/',\n",
       " 'https://www.coindesk.com/sponsored-content/sekuritance-brings-blockchain-compliance-to-life/',\n",
       " 'https://www.coindesk.com/sponsored-content/the-inevitable-convergence-of-central-bank-digital-currencies-and-private-stablecoins/',\n",
       " 'https://www.coindesk.com/sponsored-content/what-gives-crypto-its-value/',\n",
       " 'https://www.coindesk.com/sponsored-content/why-web-3-must-be-developed-sustainably/',\n",
       " 'https://www.coindesk.com/sponsored-content/how-companies-are-exploring-alternatives-to-buying-and-holding-crypto/',\n",
       " 'https://www.coindesk.com/sponsored-content/how-to-really-create-an-nft-collection/',\n",
       " 'https://www.coindesk.com/sponsored-content/why-more-corporates-are-considering-adding-crypto-assets-to-their-corporate-treasuries/',\n",
       " 'https://www.coindesk.com/sponsored-content/hardware-wallets-the-best-way-to-protect-crypto/',\n",
       " 'https://www.coindesk.com/sponsored-content/financial-disruption-is-the-financial-revolution-happening/',\n",
       " 'https://www.coindesk.com/sponsored-content/building-web3-for-igaming-a-fun-journey/',\n",
       " 'https://www.coindesk.com/sponsored-content/a-guide-for-surviving-a-bitcoin-bear-market/',\n",
       " 'https://www.coindesk.com/sponsored-content/xiden-developer-cryptodata-defends-the-crypto-space-from-malicious-asset-losses/',\n",
       " 'https://www.coindesk.com/sponsored-content/crypto-in-the-context-of-russia-and-ukraine/',\n",
       " 'https://www.coindesk.com/powered-by-consensus/transforming-digital-economy/',\n",
       " 'https://www.coindesk.com/sponsored-content/privacy-coin-issuer-nothings-encrypted-until-end-points-are-encrypted/',\n",
       " 'https://www.coindesk.com/sponsored-content/put-your-crypto-to-work-3-ways-to-earn-more-in-2022/',\n",
       " 'https://www.coindesk.com/sponsored-content/charting-the-value-of-nfts/',\n",
       " 'https://www.coindesk.com/sponsored-content/cracking-the-notification-conundrum-in-web-3-apps/',\n",
       " 'https://www.coindesk.com/markets/2018/09/09/crypto-trading-101-the-moving-average-crossover/',\n",
       " 'https://www.coindesk.com/sponsored-content/encrypted-variable-tokens-the-next-generation-of-innovative-media-assets/',\n",
       " 'https://www.coindesk.com/sponsored-content/3-things-blockchain-projects-can-do-to-grow-merchant-acceptance/',\n",
       " 'https://www.coindesk.com/sponsored-content/an-interview-with-minima-co-founder-paddy-cerri/',\n",
       " 'https://www.coindesk.com/sponsored-content/near-predictions-creatives-ready-to-level-up/',\n",
       " 'https://www.coindesk.com/sponsored-content/shop2earn-the-benefits-of-the-socialgood-app/',\n",
       " 'https://www.coindesk.com/sponsored-content/why-lunas-collapse-is-good-for-crypto/',\n",
       " 'https://www.coindesk.com/sponsored-content/why-crypto-startups-need-banking-services-and-banks-need-crypto-too/',\n",
       " 'https://www.coindesk.com/sponsored-content/after-ftx-investors-are-choosing-an-exchange-with-a-long-track-record-of-best-practices-in-liquidity-and-risk-management/',\n",
       " 'https://www.coindesk.com/sponsored-content/the-beginnings-of-institutional-ethereum-recapping-the-first-few-weeks-of-cme-ether-futures/',\n",
       " 'https://www.coindesk.com/sponsored-content/socialgood-app-handing-out-100s-the-ambition-of-a-shop-to-earn-apps-founder/',\n",
       " 'https://www.coindesk.com/sponsored-content/growth-of-dollar-digital-currency-creates-new-investment-opportunities-for-businesses/',\n",
       " 'https://www.coindesk.com/sponsored-content/the-power-of-your-defi-portfolio-finally-unlocked/',\n",
       " 'https://www.coindesk.com/powered-by-consensus/most-influential-blockchain-projects/',\n",
       " 'https://www.coindesk.com/sponsored-content/nasdaq-listing-brings-btcs-to-mainstream-markets/',\n",
       " 'https://www.coindesk.com/sponsored-content/huobis-proprietary-risk-control-infrastructure-protects-users-against-bsv-attack/',\n",
       " 'https://www.coindesk.com/sponsored-content/how-do-we-survive-and-thrive-in-this-winter-one-veteran-web3-vc-answers-fundamentals/',\n",
       " 'https://www.coindesk.com/sponsored-content/huobi-building-on-nine-years-of-trust/',\n",
       " 'https://www.coindesk.com/sponsored-content/why-earning-interest-has-become-the-bedrock-of-crypto-investment/',\n",
       " 'https://www.coindesk.com/sponsored-content/banks-are-coming-to-cryptos-rescue/',\n",
       " 'https://www.coindesk.com/sponsored-content/filling-the-knowledge-gap-cryptostudios-independent-comparison-and-education-hub-promises-to-help-crypto-adoption-go-mainstream/',\n",
       " 'https://www.coindesk.com/sponsored-content/positive-returns-in-negative-markets/',\n",
       " 'https://www.coindesk.com/sponsored-content/demystifying-decentralization/',\n",
       " 'https://www.coindesk.com/sponsored-content/building-an-altcoin-future-with-permissionless-perpetuals/',\n",
       " 'https://www.coindesk.com/web3/top-brands-in-web3-nfts-and-the-metaverse/',\n",
       " 'https://www.coindesk.com/tech/2021/08/17/what-is-a-semi-fungible-crypto-token/',\n",
       " 'https://www.coindesk.com/sponsored-content/china-is-getting-out-of-crypto-mining-is-north-america-ready-to-embrace-it/',\n",
       " 'https://www.coindesk.com/sponsored-content/global-b2b-and-b2c-remittances-are-now-faster-and-cheaper-thanks-to-blockchain-technology-and-onpay/',\n",
       " 'https://www.coindesk.com/sponsored-content/anonymity-is-the-key-to-everything/',\n",
       " 'https://www.coindesk.com/sponsored-content/art-in-the-age-of-the-metaverse/',\n",
       " 'https://www.coindesk.com/powered-by-consensus/crypto-regulation-new-laws-2023/',\n",
       " 'https://www.coindesk.com/sponsored-content/hacks-arent-stopping-in-the-crypto-industry-heres-how-one-new-project-plans-to-solve-this/',\n",
       " 'https://www.coindesk.com/sponsored-content/poloniex-how-can-a-stable-crypto-trading-platform-help-you-stay-ahead-of-the-game/',\n",
       " 'https://www.coindesk.com/sponsored-content/can-nfts-be-issued-at-scale/',\n",
       " 'https://www.coindesk.com/sponsored-content/nfts-and-the-new-frontier-of-mainstream-crypto-adoption/',\n",
       " 'https://www.coindesk.com/sponsored-content/infrastructure-signing-authority-and-governance-the-atlas-we-need-to-navigate-the-trilemma/',\n",
       " 'https://www.coindesk.com/sponsored-content/unleashing-liquidity-in-defi-trading/',\n",
       " 'https://www.coindesk.com/sponsored-content/the-growing-utility-of-nfts/',\n",
       " 'https://www.coindesk.com/sponsored-content/indonesia-embraces-the-metaverse-and-pioneers-meta-finance/',\n",
       " 'https://www.coindesk.com/web3/gamestop-nft-marketplace-a-beginners-guide/',\n",
       " 'https://www.coindesk.com/sponsored-content/semantic-sbts-encode-social-relationships-on-web3/',\n",
       " 'https://www.coindesk.com/sponsored-content/how-stablecoins-outlasted-instability/',\n",
       " 'https://www.coindesk.com/powered-by-consensus/how-to-become-a-web3-developer/',\n",
       " 'https://www.coindesk.com/tech/2021/02/09/what-is-the-erc-20-ethereum-token-standard/',\n",
       " 'https://www.coindesk.com/sponsored-content/nfts-as-an-asset-class/',\n",
       " 'https://www.coindesk.com/sponsored-content/the-first-euro-stablecoin-gets-a-boost/',\n",
       " 'https://www.coindesk.com/sponsored-content/creating-the-on-ramp-for-web-3/',\n",
       " 'https://www.coindesk.com/sponsored-content/follow-a-new-social-protocol-for-web-30/',\n",
       " 'https://www.coindesk.com/sponsored-content/near-protocol-optimized-for-disruptive-developers/',\n",
       " 'https://www.coindesk.com/sponsored-content/crafting-tokens-both-wall-street-and-washington-can-love/',\n",
       " 'https://www.coindesk.com/sponsored-content/bringing-nfts-to-life-in-the-metaverse/',\n",
       " 'https://www.coindesk.com/sponsored-content/how-to-create-millions-of-nfts-without-holding-crypto/',\n",
       " 'https://www.coindesk.com/sponsored-content/moving-value-from-centralized-exchanges-to-a-private-wallet-go-to-warrr/',\n",
       " 'https://www.coindesk.com/sponsored-content/how-much-more-private-can-zk-get-an-order-of-magnitude/',\n",
       " 'https://www.coindesk.com/business/2021/03/25/your-nft-tax-questions-answered/',\n",
       " 'https://www.coindesk.com/sponsored-content/uniqueonenetwork-expands-the-value-of-nfts/',\n",
       " 'https://www.coindesk.com/sponsored-content/cryptodata-tech-sponsors-motogp-austrian-grand-prix/',\n",
       " 'https://www.coindesk.com/sponsored-content/the-blockchain-can-get-so-private-it-cant-be-audited-until-now/',\n",
       " 'https://www.coindesk.com/sponsored-content/how-can-banks-get-on-the-crypto-bandwagon-safely/',\n",
       " 'https://www.coindesk.com/sponsored-content/decentralization-an-unstoppable-movement-or-wishful-thinking/',\n",
       " 'https://www.coindesk.com/sponsored-content/decentralized-storage-for-ai-data-brought-to-life-by-epik-protocol/',\n",
       " 'https://www.coindesk.com/sponsored-content/graphlinq-bringing-no-code-development-to-blockchain/',\n",
       " 'https://www.coindesk.com/sponsored-content/why-we-need-a-true-cross-chain-nft-marketplace-now/',\n",
       " 'https://www.coindesk.com/sponsored-content/webinar-recap-crypto-industry-in-2022/',\n",
       " 'https://www.coindesk.com/sponsored-content/cauldron-of-connections-unify-gaming-defi-and-dao-protocols/',\n",
       " 'https://www.coindesk.com/sponsored-content/starfish-finance-ii-attack-of-the-dapp-clones/',\n",
       " 'https://www.coindesk.com/sponsored-content/how-the-philippines-is-becoming-a-true-digital-sandbox/']"
      ]
     },
     "execution_count": 22,
     "metadata": {},
     "output_type": "execute_result"
    }
   ],
   "source": [
    "# Check urls of rows with missing section -> Sponsored content | no section | Crypto Explainer+\n",
    "coindesk_abt[coindesk_abt.section.isna()].url.tolist()"
   ]
  },
  {
   "cell_type": "code",
   "execution_count": 23,
   "id": "f7e4c284",
   "metadata": {},
   "outputs": [],
   "source": [
    "# Delete sponsored content, keep other articles they have important information for SentAn\n",
    "pattern = r'https://www.coindesk.com/sponsored-content/'\n",
    "mask = coindesk_abt[coindesk_abt.url.str.contains(pattern)].index\n",
    "coindesk_abt = coindesk_abt.drop(mask, axis=0)"
   ]
  },
  {
   "cell_type": "code",
   "execution_count": 24,
   "id": "4f8f3eeb",
   "metadata": {},
   "outputs": [
    {
     "data": {
      "text/plain": [
       "['https://www.coindesk.com/tech/2021/07/12/nft-marketplaces-a-beginners-guide/',\n",
       " 'https://www.coindesk.com/tech/2022/02/10/the-top-ethereum-killers-compared/',\n",
       " 'https://www.coindesk.com/powered-by-consensus/consensus-history/',\n",
       " 'https://www.coindesk.com/powered-by-consensus/ftx-collapse-crypto-investors-retreat/',\n",
       " 'https://www.coindesk.com/markets/como-identificar-y-protegerte-de-estafas-piramidales-realizadas-con-criptomonedas/',\n",
       " 'https://www.coindesk.com/business/2021/02/04/what-is-uniswap-a-complete-beginners-guide/',\n",
       " 'https://www.coindesk.com/powered-by-consensus/transforming-digital-economy/',\n",
       " 'https://www.coindesk.com/markets/2018/09/09/crypto-trading-101-the-moving-average-crossover/',\n",
       " 'https://www.coindesk.com/powered-by-consensus/most-influential-blockchain-projects/',\n",
       " 'https://www.coindesk.com/web3/top-brands-in-web3-nfts-and-the-metaverse/',\n",
       " 'https://www.coindesk.com/tech/2021/08/17/what-is-a-semi-fungible-crypto-token/',\n",
       " 'https://www.coindesk.com/powered-by-consensus/crypto-regulation-new-laws-2023/',\n",
       " 'https://www.coindesk.com/web3/gamestop-nft-marketplace-a-beginners-guide/',\n",
       " 'https://www.coindesk.com/powered-by-consensus/how-to-become-a-web3-developer/',\n",
       " 'https://www.coindesk.com/tech/2021/02/09/what-is-the-erc-20-ethereum-token-standard/',\n",
       " 'https://www.coindesk.com/business/2021/03/25/your-nft-tax-questions-answered/']"
      ]
     },
     "execution_count": 24,
     "metadata": {},
     "output_type": "execute_result"
    }
   ],
   "source": [
    "# Check links\n",
    "coindesk_abt[coindesk_abt.section.isna()].url.tolist()"
   ]
  },
  {
   "cell_type": "code",
   "execution_count": 25,
   "id": "3254fb3b",
   "metadata": {},
   "outputs": [],
   "source": [
    "# Create section powered by consensus for 'https://www.coindesk.com/powered-by-consensus/...' urls\n",
    "pattern = r'powered-by-consensus' #'Powered by Consensus'\n",
    "coindesk_abt.loc[coindesk_abt.url.str.contains(pattern),'section'] = 'Powered by Consensus'"
   ]
  },
  {
   "cell_type": "code",
   "execution_count": 26,
   "id": "17b764c6",
   "metadata": {},
   "outputs": [
    {
     "data": {
      "text/plain": [
       "['https://www.coindesk.com/tech/2021/07/12/nft-marketplaces-a-beginners-guide/',\n",
       " 'https://www.coindesk.com/tech/2022/02/10/the-top-ethereum-killers-compared/',\n",
       " 'https://www.coindesk.com/markets/como-identificar-y-protegerte-de-estafas-piramidales-realizadas-con-criptomonedas/',\n",
       " 'https://www.coindesk.com/business/2021/02/04/what-is-uniswap-a-complete-beginners-guide/',\n",
       " 'https://www.coindesk.com/markets/2018/09/09/crypto-trading-101-the-moving-average-crossover/',\n",
       " 'https://www.coindesk.com/web3/top-brands-in-web3-nfts-and-the-metaverse/',\n",
       " 'https://www.coindesk.com/tech/2021/08/17/what-is-a-semi-fungible-crypto-token/',\n",
       " 'https://www.coindesk.com/web3/gamestop-nft-marketplace-a-beginners-guide/',\n",
       " 'https://www.coindesk.com/tech/2021/02/09/what-is-the-erc-20-ethereum-token-standard/',\n",
       " 'https://www.coindesk.com/business/2021/03/25/your-nft-tax-questions-answered/']"
      ]
     },
     "execution_count": 26,
     "metadata": {},
     "output_type": "execute_result"
    }
   ],
   "source": [
    "# Check links\n",
    "coindesk_abt[coindesk_abt.section.isna()].url.tolist()"
   ]
  },
  {
   "cell_type": "code",
   "execution_count": 27,
   "id": "03066551",
   "metadata": {},
   "outputs": [],
   "source": [
    "# Create section Crypto Explainer+ \n",
    "coindesk_abt.loc[coindesk_abt.section.isna(),'section'] = 'Crypto Explainer+'"
   ]
  },
  {
   "cell_type": "code",
   "execution_count": 28,
   "id": "b3c1aea7",
   "metadata": {
    "scrolled": true
   },
   "outputs": [
    {
     "name": "stdout",
     "output_type": "stream",
     "text": [
      "<class 'pandas.core.frame.DataFrame'>\n",
      "Int64Index: 27722 entries, 0 to 27835\n",
      "Data columns (total 7 columns):\n",
      " #   Column    Non-Null Count  Dtype \n",
      "---  ------    --------------  ----- \n",
      " 0   datetime  27722 non-null  object\n",
      " 1   coin      27722 non-null  object\n",
      " 2   section   27722 non-null  object\n",
      " 3   title     27722 non-null  object\n",
      " 4   text      27722 non-null  object\n",
      " 5   url       27722 non-null  object\n",
      " 6   source    27722 non-null  object\n",
      "dtypes: object(7)\n",
      "memory usage: 1.7+ MB\n"
     ]
    }
   ],
   "source": [
    "coindesk_abt.info()"
   ]
  },
  {
   "cell_type": "markdown",
   "id": "edf802c9",
   "metadata": {},
   "source": [
    "Feature: date"
   ]
  },
  {
   "cell_type": "code",
   "execution_count": 29,
   "id": "3db4c5cc",
   "metadata": {},
   "outputs": [],
   "source": [
    "# Check for wrong dates and drop them\n",
    "mask = coindesk_abt[~coindesk_abt.datetime.str.match(r'(Jan|Feb|Mar|Apr|May|Jun|Jul|Sep|Aug|Oct|Nov|Dec)\\s\\w{1,2},\\s\\w{4}')]\n",
    "coindesk_abt = coindesk_abt.drop(mask.index, axis=0)"
   ]
  },
  {
   "cell_type": "code",
   "execution_count": 30,
   "id": "40f8b90e",
   "metadata": {},
   "outputs": [],
   "source": [
    "# Convert dtype of datetime derivate  date and time column and drop datetime\n",
    "coindesk_abt.datetime.str.replace(r'[,;.at]', '', regex=True)\n",
    "coindesk_abt.datetime = pd.to_datetime(coindesk_abt.datetime, infer_datetime_format=True, utc=True)\n",
    "coindesk_abt['date'] = coindesk_abt.datetime.dt.date\n",
    "coindesk_abt['time'] = coindesk_abt.datetime.dt.time\n",
    "coindesk_abt = coindesk_abt.drop(['datetime'], axis = 1)"
   ]
  },
  {
   "cell_type": "code",
   "execution_count": 31,
   "id": "85ec3629",
   "metadata": {},
   "outputs": [
    {
     "data": {
      "text/plain": [
       "coin       False\n",
       "section    False\n",
       "title      False\n",
       "text       False\n",
       "url        False\n",
       "source     False\n",
       "date       False\n",
       "time       False\n",
       "dtype: bool"
      ]
     },
     "execution_count": 31,
     "metadata": {},
     "output_type": "execute_result"
    }
   ],
   "source": [
    "coindesk_abt.isna().any()"
   ]
  },
  {
   "cell_type": "code",
   "execution_count": 32,
   "id": "af06724c",
   "metadata": {},
   "outputs": [
    {
     "data": {
      "text/plain": [
       "False"
      ]
     },
     "execution_count": 32,
     "metadata": {},
     "output_type": "execute_result"
    }
   ],
   "source": [
    "coindesk_abt.duplicated().any()"
   ]
  },
  {
   "cell_type": "code",
   "execution_count": 33,
   "id": "32995837",
   "metadata": {},
   "outputs": [
    {
     "name": "stdout",
     "output_type": "stream",
     "text": [
      "<class 'pandas.core.frame.DataFrame'>\n",
      "Int64Index: 27709 entries, 0 to 27835\n",
      "Data columns (total 8 columns):\n",
      " #   Column   Non-Null Count  Dtype \n",
      "---  ------   --------------  ----- \n",
      " 0   coin     27709 non-null  object\n",
      " 1   section  27709 non-null  object\n",
      " 2   title    27709 non-null  object\n",
      " 3   text     27709 non-null  object\n",
      " 4   url      27709 non-null  object\n",
      " 5   source   27709 non-null  object\n",
      " 6   date     27709 non-null  object\n",
      " 7   time     27709 non-null  object\n",
      "dtypes: object(8)\n",
      "memory usage: 1.9+ MB\n"
     ]
    }
   ],
   "source": [
    "coindesk_abt.info()"
   ]
  },
  {
   "cell_type": "code",
   "execution_count": 34,
   "id": "56c66cb4",
   "metadata": {
    "scrolled": true
   },
   "outputs": [
    {
     "data": {
      "text/html": [
       "<div>\n",
       "<style scoped>\n",
       "    .dataframe tbody tr th:only-of-type {\n",
       "        vertical-align: middle;\n",
       "    }\n",
       "\n",
       "    .dataframe tbody tr th {\n",
       "        vertical-align: top;\n",
       "    }\n",
       "\n",
       "    .dataframe thead th {\n",
       "        text-align: right;\n",
       "    }\n",
       "</style>\n",
       "<table border=\"1\" class=\"dataframe\">\n",
       "  <thead>\n",
       "    <tr style=\"text-align: right;\">\n",
       "      <th></th>\n",
       "      <th>coin</th>\n",
       "      <th>section</th>\n",
       "      <th>title</th>\n",
       "      <th>text</th>\n",
       "      <th>url</th>\n",
       "      <th>source</th>\n",
       "      <th>date</th>\n",
       "      <th>time</th>\n",
       "    </tr>\n",
       "  </thead>\n",
       "  <tbody>\n",
       "    <tr>\n",
       "      <th>3201</th>\n",
       "      <td>bitcoin</td>\n",
       "      <td>Markets</td>\n",
       "      <td>Market Wrap: Bitcoin Traders Take Profits Amid...</td>\n",
       "      <td>It’s been a quiet week in crypto markets as pr...</td>\n",
       "      <td>https://www.coindesk.com/markets/2021/09/17/ma...</td>\n",
       "      <td>coindesk</td>\n",
       "      <td>2021-09-17</td>\n",
       "      <td>20:28:00</td>\n",
       "    </tr>\n",
       "    <tr>\n",
       "      <th>16861</th>\n",
       "      <td>bitcoin</td>\n",
       "      <td>Markets</td>\n",
       "      <td>Meme Tokens Led ‘Uptober’ as SHIB Mooned 765%</td>\n",
       "      <td>Popular meme tokens saw large gains in October...</td>\n",
       "      <td>https://www.coindesk.com/markets/2021/11/01/me...</td>\n",
       "      <td>coindesk</td>\n",
       "      <td>2021-11-01</td>\n",
       "      <td>15:12:00</td>\n",
       "    </tr>\n",
       "    <tr>\n",
       "      <th>22814</th>\n",
       "      <td>bitcoin</td>\n",
       "      <td>Markets</td>\n",
       "      <td>Vietnam Is Preparing to Legally Recognize Bitcoin</td>\n",
       "      <td>Vietnam's prime minister has approved a plan t...</td>\n",
       "      <td>https://www.coindesk.com/markets/2017/08/25/vi...</td>\n",
       "      <td>coindesk</td>\n",
       "      <td>2017-08-25</td>\n",
       "      <td>13:00:00</td>\n",
       "    </tr>\n",
       "    <tr>\n",
       "      <th>24863</th>\n",
       "      <td>ethereum</td>\n",
       "      <td>Markets</td>\n",
       "      <td>Ether, Ethereum Classic See Mini Price Swing A...</td>\n",
       "      <td>Crypto markets are mostly flattish over the pa...</td>\n",
       "      <td>https://www.coindesk.com/markets/2022/09/15/et...</td>\n",
       "      <td>coindesk</td>\n",
       "      <td>2022-09-15</td>\n",
       "      <td>12:16:00</td>\n",
       "    </tr>\n",
       "    <tr>\n",
       "      <th>271</th>\n",
       "      <td>bitcoin</td>\n",
       "      <td>Markets</td>\n",
       "      <td>Bitcoin Again Falters at $40K as Ether Retreat...</td>\n",
       "      <td>Bitcoin  and  ether  erased Wednesday's gains ...</td>\n",
       "      <td>https://www.coindesk.com/markets/2021/08/05/bi...</td>\n",
       "      <td>coindesk</td>\n",
       "      <td>2021-08-05</td>\n",
       "      <td>11:12:00</td>\n",
       "    </tr>\n",
       "  </tbody>\n",
       "</table>\n",
       "</div>"
      ],
      "text/plain": [
       "           coin  section                                              title  \\\n",
       "3201    bitcoin  Markets  Market Wrap: Bitcoin Traders Take Profits Amid...   \n",
       "16861   bitcoin  Markets      Meme Tokens Led ‘Uptober’ as SHIB Mooned 765%   \n",
       "22814   bitcoin  Markets  Vietnam Is Preparing to Legally Recognize Bitcoin   \n",
       "24863  ethereum  Markets  Ether, Ethereum Classic See Mini Price Swing A...   \n",
       "271     bitcoin  Markets  Bitcoin Again Falters at $40K as Ether Retreat...   \n",
       "\n",
       "                                                    text  \\\n",
       "3201   It’s been a quiet week in crypto markets as pr...   \n",
       "16861  Popular meme tokens saw large gains in October...   \n",
       "22814  Vietnam's prime minister has approved a plan t...   \n",
       "24863  Crypto markets are mostly flattish over the pa...   \n",
       "271    Bitcoin  and  ether  erased Wednesday's gains ...   \n",
       "\n",
       "                                                     url    source  \\\n",
       "3201   https://www.coindesk.com/markets/2021/09/17/ma...  coindesk   \n",
       "16861  https://www.coindesk.com/markets/2021/11/01/me...  coindesk   \n",
       "22814  https://www.coindesk.com/markets/2017/08/25/vi...  coindesk   \n",
       "24863  https://www.coindesk.com/markets/2022/09/15/et...  coindesk   \n",
       "271    https://www.coindesk.com/markets/2021/08/05/bi...  coindesk   \n",
       "\n",
       "             date      time  \n",
       "3201   2021-09-17  20:28:00  \n",
       "16861  2021-11-01  15:12:00  \n",
       "22814  2017-08-25  13:00:00  \n",
       "24863  2022-09-15  12:16:00  \n",
       "271    2021-08-05  11:12:00  "
      ]
     },
     "execution_count": 34,
     "metadata": {},
     "output_type": "execute_result"
    }
   ],
   "source": [
    "coindesk_abt.sample(5)"
   ]
  },
  {
   "cell_type": "code",
   "execution_count": 35,
   "id": "0f496a60",
   "metadata": {},
   "outputs": [
    {
     "name": "stdout",
     "output_type": "stream",
     "text": [
      "Stardate: 2013-04-01\n",
      "Enddate: 2022-12-30\n"
     ]
    }
   ],
   "source": [
    "print('Stardate:', min(coindesk_abt.date))\n",
    "print('Enddate:', max(coindesk_abt.date))"
   ]
  },
  {
   "cell_type": "markdown",
   "id": "76a9d33e",
   "metadata": {},
   "source": [
    "## Split Coindesk data"
   ]
  },
  {
   "cell_type": "code",
   "execution_count": 36,
   "id": "ffc0673d",
   "metadata": {},
   "outputs": [],
   "source": [
    "# Create df for bitcoin articles\n",
    "coindesk_btc_articles = coindesk_abt[coindesk_abt.coin=='bitcoin'].reset_index(drop=True)\n",
    "coindesk_xrp_articles = coindesk_abt[coindesk_abt.coin=='xrp'].reset_index(drop=True)\n",
    "coindesk_eth_articles = coindesk_abt[coindesk_abt.coin=='ethereum'].reset_index(drop=True)\n",
    "coindesk_bnb_articles = coindesk_abt[coindesk_abt.coin=='binance'].reset_index(drop=True)\n",
    "coindesk_ada_articles = coindesk_abt[coindesk_abt.coin=='cardano'].reset_index(drop=True)"
   ]
  },
  {
   "cell_type": "code",
   "execution_count": 40,
   "id": "fa94390a",
   "metadata": {},
   "outputs": [
    {
     "name": "stdout",
     "output_type": "stream",
     "text": [
      "BTC\n",
      "Unique dates: 3402\n",
      "Articles over 9.746948944879088 Years\n",
      "\n",
      "\n",
      "XRP\n",
      "Unique dates: 278\n",
      "Articles over 9.563509175410859 Years\n",
      "\n",
      "\n",
      "ETH\n",
      "Unique dates: 1527\n",
      "Articles over 7.222598684435684 Years\n",
      "\n",
      "\n",
      "BNB\n",
      "Unique dates: 134\n",
      "Articles over 4.690034702971314 Years\n",
      "\n",
      "\n",
      "ADA\n",
      "Unique dates: 63\n",
      "Articles over 5.889237972032281 Years\n",
      "\n",
      "\n"
     ]
    }
   ],
   "source": [
    "coindesk_data = {'BTC': coindesk_btc_articles , \n",
    "                 'XRP': coindesk_xrp_articles,\n",
    "                 'ETH' : coindesk_eth_articles,\n",
    "                 'BNB': coindesk_bnb_articles,\n",
    "                 'ADA': coindesk_ada_articles}\n",
    "coin_details(coindesk_data)"
   ]
  },
  {
   "cell_type": "markdown",
   "id": "59cb5805",
   "metadata": {},
   "source": [
    "Result: We need more data for XRP, BNB and ADA"
   ]
  },
  {
   "cell_type": "markdown",
   "id": "d4ed57ac",
   "metadata": {},
   "source": [
    "# Utoday data"
   ]
  },
  {
   "cell_type": "code",
   "execution_count": 41,
   "id": "7be08f09",
   "metadata": {},
   "outputs": [],
   "source": [
    "article = 'article_content_utoday.json'\n",
    "path = os.path.join(DATA_DIR_ARTICLE, article)"
   ]
  },
  {
   "cell_type": "code",
   "execution_count": 42,
   "id": "2cdf3e9c",
   "metadata": {},
   "outputs": [],
   "source": [
    "utoday_df = pd.read_json(path)"
   ]
  },
  {
   "cell_type": "code",
   "execution_count": 43,
   "id": "047a520d",
   "metadata": {},
   "outputs": [
    {
     "data": {
      "text/html": [
       "<div>\n",
       "<style scoped>\n",
       "    .dataframe tbody tr th:only-of-type {\n",
       "        vertical-align: middle;\n",
       "    }\n",
       "\n",
       "    .dataframe tbody tr th {\n",
       "        vertical-align: top;\n",
       "    }\n",
       "\n",
       "    .dataframe thead th {\n",
       "        text-align: right;\n",
       "    }\n",
       "</style>\n",
       "<table border=\"1\" class=\"dataframe\">\n",
       "  <thead>\n",
       "    <tr style=\"text-align: right;\">\n",
       "      <th></th>\n",
       "      <th>date</th>\n",
       "      <th>coin</th>\n",
       "      <th>title</th>\n",
       "      <th>text</th>\n",
       "      <th>url</th>\n",
       "    </tr>\n",
       "  </thead>\n",
       "  <tbody>\n",
       "    <tr>\n",
       "      <th>0</th>\n",
       "      <td>2022-12-12 14:48:00</td>\n",
       "      <td>bitcoin</td>\n",
       "      <td>Bitcoin (BTC) Macro Risk/Reward Indicators Loo...</td>\n",
       "      <td>Bitcoin (BTC), the largest cryptocurrency, is ...</td>\n",
       "      <td>https://u.today/bitcoin-btc-macro-riskreward-i...</td>\n",
       "    </tr>\n",
       "    <tr>\n",
       "      <th>1</th>\n",
       "      <td>2022-12-12 09:14:00</td>\n",
       "      <td>bitcoin</td>\n",
       "      <td>Investors Are Getting Back into Bitcoin at Hig...</td>\n",
       "      <td>According to crypto analytics portal  Santimen...</td>\n",
       "      <td>https://u.today/investors-are-getting-back-int...</td>\n",
       "    </tr>\n",
       "    <tr>\n",
       "      <th>2</th>\n",
       "      <td>2022-12-12 16:02:00</td>\n",
       "      <td>bitcoin</td>\n",
       "      <td>Bitcoin Is Hitting Bottom, David Gokhshtein Sa...</td>\n",
       "      <td>Former U.S. congressional candidate and curren...</td>\n",
       "      <td>https://u.today/bitcoin-is-hitting-bottom-davi...</td>\n",
       "    </tr>\n",
       "    <tr>\n",
       "      <th>3</th>\n",
       "      <td>2022-12-13 06:22:00</td>\n",
       "      <td>bitcoin</td>\n",
       "      <td>Yardeni Research Says Crypto Collapse Hasn’t H...</td>\n",
       "      <td>According to  Yardeni Research , the collapse ...</td>\n",
       "      <td>https://u.today/yardeni-research-says-crypto-c...</td>\n",
       "    </tr>\n",
       "    <tr>\n",
       "      <th>4</th>\n",
       "      <td>2022-12-13 18:37:00</td>\n",
       "      <td>bitcoin</td>\n",
       "      <td>Congressman Brad Sherman Trashes Crypto During...</td>\n",
       "      <td>During a recent congressional hearing devoted ...</td>\n",
       "      <td>https://u.today/congressman-brad-sherman-trash...</td>\n",
       "    </tr>\n",
       "  </tbody>\n",
       "</table>\n",
       "</div>"
      ],
      "text/plain": [
       "                 date     coin  \\\n",
       "0 2022-12-12 14:48:00  bitcoin   \n",
       "1 2022-12-12 09:14:00  bitcoin   \n",
       "2 2022-12-12 16:02:00  bitcoin   \n",
       "3 2022-12-13 06:22:00  bitcoin   \n",
       "4 2022-12-13 18:37:00  bitcoin   \n",
       "\n",
       "                                               title  \\\n",
       "0  Bitcoin (BTC) Macro Risk/Reward Indicators Loo...   \n",
       "1  Investors Are Getting Back into Bitcoin at Hig...   \n",
       "2  Bitcoin Is Hitting Bottom, David Gokhshtein Sa...   \n",
       "3  Yardeni Research Says Crypto Collapse Hasn’t H...   \n",
       "4  Congressman Brad Sherman Trashes Crypto During...   \n",
       "\n",
       "                                                text  \\\n",
       "0  Bitcoin (BTC), the largest cryptocurrency, is ...   \n",
       "1  According to crypto analytics portal  Santimen...   \n",
       "2  Former U.S. congressional candidate and curren...   \n",
       "3  According to  Yardeni Research , the collapse ...   \n",
       "4  During a recent congressional hearing devoted ...   \n",
       "\n",
       "                                                 url  \n",
       "0  https://u.today/bitcoin-btc-macro-riskreward-i...  \n",
       "1  https://u.today/investors-are-getting-back-int...  \n",
       "2  https://u.today/bitcoin-is-hitting-bottom-davi...  \n",
       "3  https://u.today/yardeni-research-says-crypto-c...  \n",
       "4  https://u.today/congressman-brad-sherman-trash...  "
      ]
     },
     "execution_count": 43,
     "metadata": {},
     "output_type": "execute_result"
    }
   ],
   "source": [
    "utoday_df.head()"
   ]
  },
  {
   "cell_type": "code",
   "execution_count": 81,
   "id": "e1cd787f",
   "metadata": {},
   "outputs": [],
   "source": [
    "utoday_df['source'] = 'utoday'"
   ]
  },
  {
   "cell_type": "code",
   "execution_count": 82,
   "id": "886cc678",
   "metadata": {},
   "outputs": [
    {
     "name": "stdout",
     "output_type": "stream",
     "text": [
      "<class 'pandas.core.frame.DataFrame'>\n",
      "RangeIndex: 8658 entries, 0 to 8657\n",
      "Data columns (total 6 columns):\n",
      " #   Column  Non-Null Count  Dtype         \n",
      "---  ------  --------------  -----         \n",
      " 0   date    8658 non-null   datetime64[ns]\n",
      " 1   coin    8658 non-null   object        \n",
      " 2   title   8658 non-null   object        \n",
      " 3   text    8658 non-null   object        \n",
      " 4   url     8658 non-null   object        \n",
      " 5   source  8658 non-null   object        \n",
      "dtypes: datetime64[ns](1), object(5)\n",
      "memory usage: 406.0+ KB\n"
     ]
    }
   ],
   "source": [
    "utoday_df.info()"
   ]
  },
  {
   "cell_type": "code",
   "execution_count": 44,
   "id": "54283452",
   "metadata": {},
   "outputs": [
    {
     "data": {
      "text/plain": [
       "date     False\n",
       "coin     False\n",
       "title    False\n",
       "text     False\n",
       "url      False\n",
       "dtype: bool"
      ]
     },
     "execution_count": 44,
     "metadata": {},
     "output_type": "execute_result"
    }
   ],
   "source": [
    "# Check for missing values\n",
    "utoday_df.isna().any()"
   ]
  },
  {
   "cell_type": "code",
   "execution_count": 45,
   "id": "530b992c",
   "metadata": {},
   "outputs": [
    {
     "data": {
      "text/plain": [
       "False"
      ]
     },
     "execution_count": 45,
     "metadata": {},
     "output_type": "execute_result"
    }
   ],
   "source": [
    "# Check for duplicates\n",
    "utoday_df.duplicated().any()"
   ]
  },
  {
   "cell_type": "code",
   "execution_count": 46,
   "id": "e1531561",
   "metadata": {},
   "outputs": [
    {
     "data": {
      "text/plain": [
       "date     8650\n",
       "coin        4\n",
       "title    8658\n",
       "text     8658\n",
       "url      8658\n",
       "dtype: int64"
      ]
     },
     "execution_count": 46,
     "metadata": {},
     "output_type": "execute_result"
    }
   ],
   "source": [
    "# Unique Values\n",
    "utoday_df.nunique()"
   ]
  },
  {
   "cell_type": "code",
   "execution_count": 47,
   "id": "0d0c3a29",
   "metadata": {},
   "outputs": [
    {
     "data": {
      "text/plain": [
       "array(['bitcoin', 'cardano', 'ripple', 'ethereum'], dtype=object)"
      ]
     },
     "execution_count": 47,
     "metadata": {},
     "output_type": "execute_result"
    }
   ],
   "source": [
    "utoday_df.coin.unique()"
   ]
  },
  {
   "cell_type": "code",
   "execution_count": 48,
   "id": "dae40967",
   "metadata": {},
   "outputs": [],
   "source": [
    "# Make copy and change date name to datetime\n",
    "utoday_abt = utoday_df.rename(columns={'date':'datetime'})"
   ]
  },
  {
   "cell_type": "code",
   "execution_count": 49,
   "id": "46643f61",
   "metadata": {},
   "outputs": [
    {
     "data": {
      "text/html": [
       "<div>\n",
       "<style scoped>\n",
       "    .dataframe tbody tr th:only-of-type {\n",
       "        vertical-align: middle;\n",
       "    }\n",
       "\n",
       "    .dataframe tbody tr th {\n",
       "        vertical-align: top;\n",
       "    }\n",
       "\n",
       "    .dataframe thead th {\n",
       "        text-align: right;\n",
       "    }\n",
       "</style>\n",
       "<table border=\"1\" class=\"dataframe\">\n",
       "  <thead>\n",
       "    <tr style=\"text-align: right;\">\n",
       "      <th></th>\n",
       "      <th>datetime</th>\n",
       "      <th>coin</th>\n",
       "      <th>title</th>\n",
       "      <th>text</th>\n",
       "      <th>url</th>\n",
       "    </tr>\n",
       "  </thead>\n",
       "  <tbody>\n",
       "    <tr>\n",
       "      <th>0</th>\n",
       "      <td>2022-12-12 14:48:00</td>\n",
       "      <td>bitcoin</td>\n",
       "      <td>Bitcoin (BTC) Macro Risk/Reward Indicators Loo...</td>\n",
       "      <td>Bitcoin (BTC), the largest cryptocurrency, is ...</td>\n",
       "      <td>https://u.today/bitcoin-btc-macro-riskreward-i...</td>\n",
       "    </tr>\n",
       "    <tr>\n",
       "      <th>1</th>\n",
       "      <td>2022-12-12 09:14:00</td>\n",
       "      <td>bitcoin</td>\n",
       "      <td>Investors Are Getting Back into Bitcoin at Hig...</td>\n",
       "      <td>According to crypto analytics portal  Santimen...</td>\n",
       "      <td>https://u.today/investors-are-getting-back-int...</td>\n",
       "    </tr>\n",
       "    <tr>\n",
       "      <th>2</th>\n",
       "      <td>2022-12-12 16:02:00</td>\n",
       "      <td>bitcoin</td>\n",
       "      <td>Bitcoin Is Hitting Bottom, David Gokhshtein Sa...</td>\n",
       "      <td>Former U.S. congressional candidate and curren...</td>\n",
       "      <td>https://u.today/bitcoin-is-hitting-bottom-davi...</td>\n",
       "    </tr>\n",
       "    <tr>\n",
       "      <th>3</th>\n",
       "      <td>2022-12-13 06:22:00</td>\n",
       "      <td>bitcoin</td>\n",
       "      <td>Yardeni Research Says Crypto Collapse Hasn’t H...</td>\n",
       "      <td>According to  Yardeni Research , the collapse ...</td>\n",
       "      <td>https://u.today/yardeni-research-says-crypto-c...</td>\n",
       "    </tr>\n",
       "    <tr>\n",
       "      <th>4</th>\n",
       "      <td>2022-12-13 18:37:00</td>\n",
       "      <td>bitcoin</td>\n",
       "      <td>Congressman Brad Sherman Trashes Crypto During...</td>\n",
       "      <td>During a recent congressional hearing devoted ...</td>\n",
       "      <td>https://u.today/congressman-brad-sherman-trash...</td>\n",
       "    </tr>\n",
       "  </tbody>\n",
       "</table>\n",
       "</div>"
      ],
      "text/plain": [
       "             datetime     coin  \\\n",
       "0 2022-12-12 14:48:00  bitcoin   \n",
       "1 2022-12-12 09:14:00  bitcoin   \n",
       "2 2022-12-12 16:02:00  bitcoin   \n",
       "3 2022-12-13 06:22:00  bitcoin   \n",
       "4 2022-12-13 18:37:00  bitcoin   \n",
       "\n",
       "                                               title  \\\n",
       "0  Bitcoin (BTC) Macro Risk/Reward Indicators Loo...   \n",
       "1  Investors Are Getting Back into Bitcoin at Hig...   \n",
       "2  Bitcoin Is Hitting Bottom, David Gokhshtein Sa...   \n",
       "3  Yardeni Research Says Crypto Collapse Hasn’t H...   \n",
       "4  Congressman Brad Sherman Trashes Crypto During...   \n",
       "\n",
       "                                                text  \\\n",
       "0  Bitcoin (BTC), the largest cryptocurrency, is ...   \n",
       "1  According to crypto analytics portal  Santimen...   \n",
       "2  Former U.S. congressional candidate and curren...   \n",
       "3  According to  Yardeni Research , the collapse ...   \n",
       "4  During a recent congressional hearing devoted ...   \n",
       "\n",
       "                                                 url  \n",
       "0  https://u.today/bitcoin-btc-macro-riskreward-i...  \n",
       "1  https://u.today/investors-are-getting-back-int...  \n",
       "2  https://u.today/bitcoin-is-hitting-bottom-davi...  \n",
       "3  https://u.today/yardeni-research-says-crypto-c...  \n",
       "4  https://u.today/congressman-brad-sherman-trash...  "
      ]
     },
     "execution_count": 49,
     "metadata": {},
     "output_type": "execute_result"
    }
   ],
   "source": [
    "utoday_abt.head()"
   ]
  },
  {
   "cell_type": "code",
   "execution_count": 50,
   "id": "57a2bd6f",
   "metadata": {
    "scrolled": true
   },
   "outputs": [],
   "source": [
    "# Convert dtype of datetime, derivate date and time column and drop datetime\n",
    "utoday_abt['date'] = utoday_abt.datetime.dt.date\n",
    "utoday_abt['time'] = utoday_abt.datetime.dt.time\n",
    "utoday_abt = utoday_abt.drop('datetime', axis=1)"
   ]
  },
  {
   "cell_type": "code",
   "execution_count": 51,
   "id": "1bb6e916",
   "metadata": {},
   "outputs": [
    {
     "data": {
      "text/plain": [
       "array(['bitcoin', 'cardano', 'ripple', 'ethereum'], dtype=object)"
      ]
     },
     "execution_count": 51,
     "metadata": {},
     "output_type": "execute_result"
    }
   ],
   "source": [
    "# Check unique coins\n",
    "utoday_df.coin.unique()"
   ]
  },
  {
   "cell_type": "code",
   "execution_count": 52,
   "id": "1265a38e",
   "metadata": {},
   "outputs": [],
   "source": [
    "# Create coin dfs\n",
    "utoday_btc_articles = utoday_abt[utoday_abt.coin=='bitcoin'].reset_index(drop=True)\n",
    "utoday_xrp_articles = utoday_abt[utoday_abt.coin=='ripple'].reset_index(drop=True)\n",
    "utoday_eth_articles = utoday_abt[utoday_abt.coin=='ethereum'].reset_index(drop=True)\n",
    "utoday_ada_articles = utoday_abt[utoday_abt.coin=='cardano'].reset_index(drop=True)"
   ]
  },
  {
   "cell_type": "code",
   "execution_count": 53,
   "id": "9f555efc",
   "metadata": {},
   "outputs": [
    {
     "name": "stdout",
     "output_type": "stream",
     "text": [
      "BTC\n",
      "Unique dates: 1298\n",
      "Articles over 4.895377728495452 Years\n",
      "\n",
      "\n",
      "XRP\n",
      "Unique dates: 945\n",
      "Articles over 4.895377728495452 Years\n",
      "\n",
      "\n",
      "ETH\n",
      "Unique dates: 767\n",
      "Articles over 4.895377728495452 Years\n",
      "\n",
      "\n",
      "ADA\n",
      "Unique dates: 578\n",
      "Articles over 4.506594933503084 Years\n",
      "\n",
      "\n"
     ]
    }
   ],
   "source": [
    "utoday_data = {\n",
    "    'BTC' : utoday_btc_articles , \n",
    "    'XRP' : utoday_xrp_articles,\n",
    "    'ETH' : utoday_eth_articles,\n",
    "    'ADA' : utoday_ada_articles}\n",
    "coin_details(utoday_data)"
   ]
  },
  {
   "cell_type": "markdown",
   "id": "fc5b9624",
   "metadata": {},
   "source": [
    "# Cointelegraph data"
   ]
  },
  {
   "cell_type": "code",
   "execution_count": 54,
   "id": "c6f762e3",
   "metadata": {},
   "outputs": [],
   "source": [
    "article = 'article_content_cointelegraph.json'\n",
    "path = os.path.join(DATA_DIR_ARTICLE, article)"
   ]
  },
  {
   "cell_type": "code",
   "execution_count": 55,
   "id": "9afc4a43",
   "metadata": {},
   "outputs": [],
   "source": [
    "# Create cointelegraph article df\n",
    "cointelegraph_articles = pd.read_json(path)"
   ]
  },
  {
   "cell_type": "code",
   "execution_count": 56,
   "id": "e18697a4",
   "metadata": {},
   "outputs": [
    {
     "name": "stdout",
     "output_type": "stream",
     "text": [
      "<class 'pandas.core.frame.DataFrame'>\n",
      "RangeIndex: 9118 entries, 0 to 9117\n",
      "Data columns (total 6 columns):\n",
      " #   Column   Non-Null Count  Dtype \n",
      "---  ------   --------------  ----- \n",
      " 0   date     9069 non-null   object\n",
      " 1   coin     9118 non-null   object\n",
      " 2   section  8791 non-null   object\n",
      " 3   title    9068 non-null   object\n",
      " 4   text     9118 non-null   object\n",
      " 5   url      9118 non-null   object\n",
      "dtypes: object(6)\n",
      "memory usage: 427.5+ KB\n"
     ]
    }
   ],
   "source": [
    "cointelegraph_articles.info()"
   ]
  },
  {
   "cell_type": "code",
   "execution_count": 57,
   "id": "ab22ab4b",
   "metadata": {},
   "outputs": [],
   "source": [
    "# Make copy and change date name to datetime\n",
    "cointelegraph_abt = cointelegraph_articles.copy()\n",
    "cointelegraph_abt = cointelegraph_abt.rename(columns={'date':'datetime'})"
   ]
  },
  {
   "cell_type": "code",
   "execution_count": 58,
   "id": "e3193f96",
   "metadata": {},
   "outputs": [],
   "source": [
    "cointelegraph_abt['source'] = 'cointelegraph'"
   ]
  },
  {
   "cell_type": "code",
   "execution_count": 59,
   "id": "6c31d08a",
   "metadata": {},
   "outputs": [
    {
     "data": {
      "text/plain": [
       "datetime     True\n",
       "coin        False\n",
       "section      True\n",
       "title        True\n",
       "text        False\n",
       "url         False\n",
       "source      False\n",
       "dtype: bool"
      ]
     },
     "execution_count": 59,
     "metadata": {},
     "output_type": "execute_result"
    }
   ],
   "source": [
    "cointelegraph_abt.isna().any()"
   ]
  },
  {
   "cell_type": "code",
   "execution_count": 60,
   "id": "bcbeb440",
   "metadata": {},
   "outputs": [],
   "source": [
    "# Drop rows without date\n",
    "mask = cointelegraph_abt[cointelegraph_abt.datetime.isna()].index\n",
    "cointelegraph_abt = cointelegraph_abt.drop(mask, axis=0)\n",
    "mask = cointelegraph_abt[cointelegraph_abt.title.isna()].index\n",
    "cointelegraph_abt = cointelegraph_abt.drop(mask, axis=0)"
   ]
  },
  {
   "cell_type": "code",
   "execution_count": 61,
   "id": "8a9f1e34",
   "metadata": {},
   "outputs": [],
   "source": [
    "# Remove leading and trailing space\n",
    "cointelegraph_abt.datetime = cointelegraph_abt.datetime.str.strip()\n",
    "cointelegraph_abt.text = cointelegraph_abt.text.str.strip()"
   ]
  },
  {
   "cell_type": "code",
   "execution_count": 62,
   "id": "3dfb58bf",
   "metadata": {
    "scrolled": true
   },
   "outputs": [],
   "source": [
    "# Check for wrong dates and drop them\n",
    "mask = cointelegraph_abt[~cointelegraph_abt.datetime.str.match(r'(Jan|Feb|Mar|Apr|May|Jun|Jul|Aug|Sep|Oct|Nov|Dec)\\s\\d{2},\\s\\d{4}')].index\n",
    "cointelegraph_abt = cointelegraph_abt.drop(mask, axis=0)"
   ]
  },
  {
   "cell_type": "code",
   "execution_count": 63,
   "id": "631b1850",
   "metadata": {},
   "outputs": [],
   "source": [
    "# Convert dtype of datetime, derivate date and time column and drop datetime\n",
    "cointelegraph_abt.datetime = pd.to_datetime(cointelegraph_abt.datetime, infer_datetime_format=True, utc=True)\n",
    "cointelegraph_abt['date'] = cointelegraph_abt.datetime.dt.date\n",
    "cointelegraph_abt['time'] = cointelegraph_abt.datetime.dt.time\n",
    "cointelegraph_abt = cointelegraph_abt.drop('datetime', axis=1)"
   ]
  },
  {
   "cell_type": "code",
   "execution_count": 64,
   "id": "042dd3f8",
   "metadata": {},
   "outputs": [
    {
     "name": "stdout",
     "output_type": "stream",
     "text": [
      "Coin: ['bitcoin' 'xrp' 'binance' 'cardano']\n",
      "Section: [' Price Analysis ' ' Analysis ' ' News ' ' Market Update '\n",
      " ' Markets News ' ' Interview ' ' Market Analysis ' ' Newsletter '\n",
      " ' BlockShow ' ' Opinion ' None ' New Year Special ' ' Sponsored '\n",
      " ' How to crypto ' ' Altcoin Watch ' ' Expert Take ' ' Event Recap '\n",
      " ' Event ' ' Follow up ' ' Research ' ' Breaking news ' ' Video '\n",
      " ' Announcement ' ' Use Case ' ' Experts Answer ' ' Review ' ' Spotlight '\n",
      " ' Explained ' ' Podcast ' ' AUDIO ' ' Thought Leaders ' ' Investigation '\n",
      " ' Regulations ' ' Overview ' ' Adoption ' ' Local News ' ' Infographics '\n",
      " ' Unitize ' ' In depth ' ' Hodler’s Digest ' ' Profile ' ' Recap ']\n"
     ]
    }
   ],
   "source": [
    "print('Coin:', cointelegraph_abt.coin.unique())\n",
    "print('Section:', cointelegraph_abt.section.unique())"
   ]
  },
  {
   "cell_type": "code",
   "execution_count": 65,
   "id": "c25199a5",
   "metadata": {},
   "outputs": [],
   "source": [
    "# Set section for missing sections\n",
    "cointelegraph_abt[cointelegraph_abt.section.isna()]\n",
    "cointelegraph_abt[cointelegraph_abt.section.isna()].url.tolist()\n",
    "cointelegraph_abt.loc[cointelegraph_abt.section.isna(),'section'] = 'Other'"
   ]
  },
  {
   "cell_type": "code",
   "execution_count": 66,
   "id": "33c69374",
   "metadata": {},
   "outputs": [],
   "source": [
    "# Create coin dfs\n",
    "cointelegraph_btc_articles = cointelegraph_abt[cointelegraph_abt.coin=='bitcoin'].reset_index(drop=True)\n",
    "cointelegraph_xrp_articles = cointelegraph_abt[cointelegraph_abt.coin=='xrp'].reset_index(drop=True)\n",
    "cointelegraph_eth_articles = cointelegraph_abt[cointelegraph_abt.coin=='binance'].reset_index(drop=True)\n",
    "cointelegraph_ada_articles = cointelegraph_abt[cointelegraph_abt.coin=='cardano'].reset_index(drop=True)\n",
    "cointelegraph_bnb_articles = cointelegraph_abt[cointelegraph_abt.coin=='binance'].reset_index(drop=True)"
   ]
  },
  {
   "cell_type": "code",
   "execution_count": 67,
   "id": "7fa948df",
   "metadata": {},
   "outputs": [
    {
     "name": "stdout",
     "output_type": "stream",
     "text": [
      "BTC\n",
      "Unique dates: 765\n",
      "Articles over 2.0944988603462087 Years\n",
      "\n",
      "\n",
      "XRP\n",
      "Unique dates: 1080\n",
      "Articles over 9.2678152186561 Years\n",
      "\n",
      "\n",
      "ETH\n",
      "Unique dates: 126\n",
      "Articles over 3.8358077167908995 Years\n",
      "\n",
      "\n",
      "ADA\n",
      "Unique dates: 267\n",
      "Articles over 4.848833309376648 Years\n",
      "\n",
      "\n",
      "BNB\n",
      "Unique dates: 126\n",
      "Articles over 3.8358077167908995 Years\n",
      "\n",
      "\n"
     ]
    }
   ],
   "source": [
    "cointelegraph_data = {\n",
    "    'BTC' : cointelegraph_btc_articles , \n",
    "    'XRP' : cointelegraph_xrp_articles,\n",
    "    'ETH' : cointelegraph_eth_articles,\n",
    "    'ADA' : cointelegraph_ada_articles,\n",
    "    'BNB' : cointelegraph_bnb_articles}\n",
    "coin_details(cointelegraph_data)"
   ]
  },
  {
   "cell_type": "markdown",
   "id": "4ec5b55e",
   "metadata": {},
   "source": [
    "# Concat coin dfs"
   ]
  },
  {
   "cell_type": "markdown",
   "id": "90189e24",
   "metadata": {},
   "source": [
    "## Bitcoin "
   ]
  },
  {
   "cell_type": "code",
   "execution_count": 68,
   "id": "ab533fe8",
   "metadata": {
    "scrolled": true
   },
   "outputs": [
    {
     "name": "stdout",
     "output_type": "stream",
     "text": [
      "<class 'pandas.core.frame.DataFrame'>\n",
      "RangeIndex: 34465 entries, 0 to 34464\n",
      "Data columns (total 8 columns):\n",
      " #   Column   Non-Null Count  Dtype         \n",
      "---  ------   --------------  -----         \n",
      " 0   coin     34465 non-null  object        \n",
      " 1   section  30598 non-null  object        \n",
      " 2   title    34465 non-null  object        \n",
      " 3   text     34465 non-null  object        \n",
      " 4   url      34465 non-null  object        \n",
      " 5   source   30598 non-null  object        \n",
      " 6   date     34465 non-null  datetime64[ns]\n",
      " 7   time     34465 non-null  object        \n",
      "dtypes: datetime64[ns](1), object(7)\n",
      "memory usage: 2.1+ MB\n"
     ]
    }
   ],
   "source": [
    "btc_articles = pd.concat([coindesk_btc_articles, utoday_btc_articles,cointelegraph_btc_articles])\n",
    "btc_articles.date = pd.to_datetime(btc_articles.date, infer_datetime_format=True)\n",
    "btc_articles = btc_articles.sort_values('date').reset_index(drop=True)\n",
    "btc_articles.info()"
   ]
  },
  {
   "cell_type": "code",
   "execution_count": 69,
   "id": "92e6c055",
   "metadata": {},
   "outputs": [
    {
     "data": {
      "text/plain": [
       "coin       False\n",
       "section     True\n",
       "title      False\n",
       "text       False\n",
       "url        False\n",
       "source      True\n",
       "date       False\n",
       "time       False\n",
       "dtype: bool"
      ]
     },
     "execution_count": 69,
     "metadata": {},
     "output_type": "execute_result"
    }
   ],
   "source": [
    "btc_articles.isna().any()"
   ]
  },
  {
   "cell_type": "code",
   "execution_count": 70,
   "id": "4c488d90",
   "metadata": {},
   "outputs": [],
   "source": [
    "btc_articles.loc[btc_articles.section.isna(), 'section'] = 'No Section'"
   ]
  },
  {
   "cell_type": "code",
   "execution_count": 71,
   "id": "067aa369",
   "metadata": {
    "collapsed": true
   },
   "outputs": [
    {
     "ename": "KeyboardInterrupt",
     "evalue": "",
     "output_type": "error",
     "traceback": [
      "\u001b[1;31m---------------------------------------------------------------------------\u001b[0m",
      "\u001b[1;31mKeyboardInterrupt\u001b[0m                         Traceback (most recent call last)",
      "Cell \u001b[1;32mIn[71], line 1\u001b[0m\n\u001b[1;32m----> 1\u001b[0m btc_articles[\u001b[38;5;124m'\u001b[39m\u001b[38;5;124mlanguage\u001b[39m\u001b[38;5;124m'\u001b[39m]\u001b[38;5;241m=\u001b[39m \u001b[43mdetect_languages\u001b[49m\u001b[43m(\u001b[49m\u001b[43mbtc_articles\u001b[49m\u001b[43m,\u001b[49m\u001b[38;5;124;43m'\u001b[39;49m\u001b[38;5;124;43mtext\u001b[39;49m\u001b[38;5;124;43m'\u001b[39;49m\u001b[43m)\u001b[49m\n",
      "Cell \u001b[1;32mIn[39], line 10\u001b[0m, in \u001b[0;36mdetect_languages\u001b[1;34m(df, column)\u001b[0m\n\u001b[0;32m      8\u001b[0m     \u001b[38;5;28;01melse\u001b[39;00m:\n\u001b[0;32m      9\u001b[0m         \u001b[38;5;28;01mreturn\u001b[39;00m language[\u001b[38;5;241m0\u001b[39m]\u001b[38;5;241m.\u001b[39mlang\n\u001b[1;32m---> 10\u001b[0m \u001b[38;5;28;01mreturn\u001b[39;00m \u001b[43mdf\u001b[49m\u001b[43m[\u001b[49m\u001b[43mcolumn\u001b[49m\u001b[43m]\u001b[49m\u001b[38;5;241;43m.\u001b[39;49m\u001b[43mapply\u001b[49m\u001b[43m(\u001b[49m\u001b[43mdetect_language\u001b[49m\u001b[43m)\u001b[49m\n",
      "File \u001b[1;32m~\\.virtualenvs\\3-_q4oRmoX\\lib\\site-packages\\pandas\\core\\series.py:4771\u001b[0m, in \u001b[0;36mSeries.apply\u001b[1;34m(self, func, convert_dtype, args, **kwargs)\u001b[0m\n\u001b[0;32m   4661\u001b[0m \u001b[38;5;28;01mdef\u001b[39;00m \u001b[38;5;21mapply\u001b[39m(\n\u001b[0;32m   4662\u001b[0m     \u001b[38;5;28mself\u001b[39m,\n\u001b[0;32m   4663\u001b[0m     func: AggFuncType,\n\u001b[1;32m   (...)\u001b[0m\n\u001b[0;32m   4666\u001b[0m     \u001b[38;5;241m*\u001b[39m\u001b[38;5;241m*\u001b[39mkwargs,\n\u001b[0;32m   4667\u001b[0m ) \u001b[38;5;241m-\u001b[39m\u001b[38;5;241m>\u001b[39m DataFrame \u001b[38;5;241m|\u001b[39m Series:\n\u001b[0;32m   4668\u001b[0m \u001b[38;5;250m    \u001b[39m\u001b[38;5;124;03m\"\"\"\u001b[39;00m\n\u001b[0;32m   4669\u001b[0m \u001b[38;5;124;03m    Invoke function on values of Series.\u001b[39;00m\n\u001b[0;32m   4670\u001b[0m \n\u001b[1;32m   (...)\u001b[0m\n\u001b[0;32m   4769\u001b[0m \u001b[38;5;124;03m    dtype: float64\u001b[39;00m\n\u001b[0;32m   4770\u001b[0m \u001b[38;5;124;03m    \"\"\"\u001b[39;00m\n\u001b[1;32m-> 4771\u001b[0m     \u001b[38;5;28;01mreturn\u001b[39;00m \u001b[43mSeriesApply\u001b[49m\u001b[43m(\u001b[49m\u001b[38;5;28;43mself\u001b[39;49m\u001b[43m,\u001b[49m\u001b[43m \u001b[49m\u001b[43mfunc\u001b[49m\u001b[43m,\u001b[49m\u001b[43m \u001b[49m\u001b[43mconvert_dtype\u001b[49m\u001b[43m,\u001b[49m\u001b[43m \u001b[49m\u001b[43margs\u001b[49m\u001b[43m,\u001b[49m\u001b[43m \u001b[49m\u001b[43mkwargs\u001b[49m\u001b[43m)\u001b[49m\u001b[38;5;241;43m.\u001b[39;49m\u001b[43mapply\u001b[49m\u001b[43m(\u001b[49m\u001b[43m)\u001b[49m\n",
      "File \u001b[1;32m~\\.virtualenvs\\3-_q4oRmoX\\lib\\site-packages\\pandas\\core\\apply.py:1105\u001b[0m, in \u001b[0;36mSeriesApply.apply\u001b[1;34m(self)\u001b[0m\n\u001b[0;32m   1102\u001b[0m     \u001b[38;5;28;01mreturn\u001b[39;00m \u001b[38;5;28mself\u001b[39m\u001b[38;5;241m.\u001b[39mapply_str()\n\u001b[0;32m   1104\u001b[0m \u001b[38;5;66;03m# self.f is Callable\u001b[39;00m\n\u001b[1;32m-> 1105\u001b[0m \u001b[38;5;28;01mreturn\u001b[39;00m \u001b[38;5;28;43mself\u001b[39;49m\u001b[38;5;241;43m.\u001b[39;49m\u001b[43mapply_standard\u001b[49m\u001b[43m(\u001b[49m\u001b[43m)\u001b[49m\n",
      "File \u001b[1;32m~\\.virtualenvs\\3-_q4oRmoX\\lib\\site-packages\\pandas\\core\\apply.py:1156\u001b[0m, in \u001b[0;36mSeriesApply.apply_standard\u001b[1;34m(self)\u001b[0m\n\u001b[0;32m   1154\u001b[0m     \u001b[38;5;28;01melse\u001b[39;00m:\n\u001b[0;32m   1155\u001b[0m         values \u001b[38;5;241m=\u001b[39m obj\u001b[38;5;241m.\u001b[39mastype(\u001b[38;5;28mobject\u001b[39m)\u001b[38;5;241m.\u001b[39m_values\n\u001b[1;32m-> 1156\u001b[0m         mapped \u001b[38;5;241m=\u001b[39m \u001b[43mlib\u001b[49m\u001b[38;5;241;43m.\u001b[39;49m\u001b[43mmap_infer\u001b[49m\u001b[43m(\u001b[49m\n\u001b[0;32m   1157\u001b[0m \u001b[43m            \u001b[49m\u001b[43mvalues\u001b[49m\u001b[43m,\u001b[49m\n\u001b[0;32m   1158\u001b[0m \u001b[43m            \u001b[49m\u001b[43mf\u001b[49m\u001b[43m,\u001b[49m\n\u001b[0;32m   1159\u001b[0m \u001b[43m            \u001b[49m\u001b[43mconvert\u001b[49m\u001b[38;5;241;43m=\u001b[39;49m\u001b[38;5;28;43mself\u001b[39;49m\u001b[38;5;241;43m.\u001b[39;49m\u001b[43mconvert_dtype\u001b[49m\u001b[43m,\u001b[49m\n\u001b[0;32m   1160\u001b[0m \u001b[43m        \u001b[49m\u001b[43m)\u001b[49m\n\u001b[0;32m   1162\u001b[0m \u001b[38;5;28;01mif\u001b[39;00m \u001b[38;5;28mlen\u001b[39m(mapped) \u001b[38;5;129;01mand\u001b[39;00m \u001b[38;5;28misinstance\u001b[39m(mapped[\u001b[38;5;241m0\u001b[39m], ABCSeries):\n\u001b[0;32m   1163\u001b[0m     \u001b[38;5;66;03m# GH#43986 Need to do list(mapped) in order to get treated as nested\u001b[39;00m\n\u001b[0;32m   1164\u001b[0m     \u001b[38;5;66;03m#  See also GH#25959 regarding EA support\u001b[39;00m\n\u001b[0;32m   1165\u001b[0m     \u001b[38;5;28;01mreturn\u001b[39;00m obj\u001b[38;5;241m.\u001b[39m_constructor_expanddim(\u001b[38;5;28mlist\u001b[39m(mapped), index\u001b[38;5;241m=\u001b[39mobj\u001b[38;5;241m.\u001b[39mindex)\n",
      "File \u001b[1;32m~\\.virtualenvs\\3-_q4oRmoX\\lib\\site-packages\\pandas\\_libs\\lib.pyx:2918\u001b[0m, in \u001b[0;36mpandas._libs.lib.map_infer\u001b[1;34m()\u001b[0m\n",
      "Cell \u001b[1;32mIn[39], line 5\u001b[0m, in \u001b[0;36mdetect_languages.<locals>.detect_language\u001b[1;34m(text)\u001b[0m\n\u001b[0;32m      3\u001b[0m \u001b[38;5;28;01mdef\u001b[39;00m \u001b[38;5;21mdetect_language\u001b[39m(text: \u001b[38;5;28mstr\u001b[39m) \u001b[38;5;241m-\u001b[39m\u001b[38;5;241m>\u001b[39m \u001b[38;5;28mstr\u001b[39m:\n\u001b[0;32m      4\u001b[0m     \u001b[38;5;28;01mtry\u001b[39;00m:\n\u001b[1;32m----> 5\u001b[0m         language \u001b[38;5;241m=\u001b[39m \u001b[43mdetect_langs\u001b[49m\u001b[43m(\u001b[49m\u001b[43mtext\u001b[49m\u001b[43m)\u001b[49m\n\u001b[0;32m      6\u001b[0m     \u001b[38;5;28;01mexcept\u001b[39;00m LangDetectException \u001b[38;5;28;01mas\u001b[39;00m e:\n\u001b[0;32m      7\u001b[0m         \u001b[38;5;28;01mreturn\u001b[39;00m \u001b[38;5;124m\"\u001b[39m\u001b[38;5;124munknown\u001b[39m\u001b[38;5;124m\"\u001b[39m\n",
      "File \u001b[1;32m~\\.virtualenvs\\3-_q4oRmoX\\lib\\site-packages\\langdetect\\detector_factory.py:137\u001b[0m, in \u001b[0;36mdetect_langs\u001b[1;34m(text)\u001b[0m\n\u001b[0;32m    135\u001b[0m detector \u001b[38;5;241m=\u001b[39m _factory\u001b[38;5;241m.\u001b[39mcreate()\n\u001b[0;32m    136\u001b[0m detector\u001b[38;5;241m.\u001b[39mappend(text)\n\u001b[1;32m--> 137\u001b[0m \u001b[38;5;28;01mreturn\u001b[39;00m \u001b[43mdetector\u001b[49m\u001b[38;5;241;43m.\u001b[39;49m\u001b[43mget_probabilities\u001b[49m\u001b[43m(\u001b[49m\u001b[43m)\u001b[49m\n",
      "File \u001b[1;32m~\\.virtualenvs\\3-_q4oRmoX\\lib\\site-packages\\langdetect\\detector.py:143\u001b[0m, in \u001b[0;36mDetector.get_probabilities\u001b[1;34m(self)\u001b[0m\n\u001b[0;32m    141\u001b[0m \u001b[38;5;28;01mdef\u001b[39;00m \u001b[38;5;21mget_probabilities\u001b[39m(\u001b[38;5;28mself\u001b[39m):\n\u001b[0;32m    142\u001b[0m     \u001b[38;5;28;01mif\u001b[39;00m \u001b[38;5;28mself\u001b[39m\u001b[38;5;241m.\u001b[39mlangprob \u001b[38;5;129;01mis\u001b[39;00m \u001b[38;5;28;01mNone\u001b[39;00m:\n\u001b[1;32m--> 143\u001b[0m         \u001b[38;5;28;43mself\u001b[39;49m\u001b[38;5;241;43m.\u001b[39;49m\u001b[43m_detect_block\u001b[49m\u001b[43m(\u001b[49m\u001b[43m)\u001b[49m\n\u001b[0;32m    144\u001b[0m     \u001b[38;5;28;01mreturn\u001b[39;00m \u001b[38;5;28mself\u001b[39m\u001b[38;5;241m.\u001b[39m_sort_probability(\u001b[38;5;28mself\u001b[39m\u001b[38;5;241m.\u001b[39mlangprob)\n",
      "File \u001b[1;32m~\\.virtualenvs\\3-_q4oRmoX\\lib\\site-packages\\langdetect\\detector.py:148\u001b[0m, in \u001b[0;36mDetector._detect_block\u001b[1;34m(self)\u001b[0m\n\u001b[0;32m    146\u001b[0m \u001b[38;5;28;01mdef\u001b[39;00m \u001b[38;5;21m_detect_block\u001b[39m(\u001b[38;5;28mself\u001b[39m):\n\u001b[0;32m    147\u001b[0m     \u001b[38;5;28mself\u001b[39m\u001b[38;5;241m.\u001b[39mcleaning_text()\n\u001b[1;32m--> 148\u001b[0m     ngrams \u001b[38;5;241m=\u001b[39m \u001b[38;5;28;43mself\u001b[39;49m\u001b[38;5;241;43m.\u001b[39;49m\u001b[43m_extract_ngrams\u001b[49m\u001b[43m(\u001b[49m\u001b[43m)\u001b[49m\n\u001b[0;32m    149\u001b[0m     \u001b[38;5;28;01mif\u001b[39;00m \u001b[38;5;129;01mnot\u001b[39;00m ngrams:\n\u001b[0;32m    150\u001b[0m         \u001b[38;5;28;01mraise\u001b[39;00m LangDetectException(ErrorCode\u001b[38;5;241m.\u001b[39mCantDetectError, \u001b[38;5;124m'\u001b[39m\u001b[38;5;124mNo features in text.\u001b[39m\u001b[38;5;124m'\u001b[39m)\n",
      "File \u001b[1;32m~\\.virtualenvs\\3-_q4oRmoX\\lib\\site-packages\\langdetect\\detector.py:189\u001b[0m, in \u001b[0;36mDetector._extract_ngrams\u001b[1;34m(self)\u001b[0m\n\u001b[0;32m    187\u001b[0m ngram \u001b[38;5;241m=\u001b[39m NGram()\n\u001b[0;32m    188\u001b[0m \u001b[38;5;28;01mfor\u001b[39;00m ch \u001b[38;5;129;01min\u001b[39;00m \u001b[38;5;28mself\u001b[39m\u001b[38;5;241m.\u001b[39mtext:\n\u001b[1;32m--> 189\u001b[0m     \u001b[43mngram\u001b[49m\u001b[38;5;241;43m.\u001b[39;49m\u001b[43madd_char\u001b[49m\u001b[43m(\u001b[49m\u001b[43mch\u001b[49m\u001b[43m)\u001b[49m\n\u001b[0;32m    190\u001b[0m     \u001b[38;5;28;01mif\u001b[39;00m ngram\u001b[38;5;241m.\u001b[39mcapitalword:\n\u001b[0;32m    191\u001b[0m         \u001b[38;5;28;01mcontinue\u001b[39;00m\n",
      "File \u001b[1;32m~\\.virtualenvs\\3-_q4oRmoX\\lib\\site-packages\\langdetect\\utils\\ngram.py:44\u001b[0m, in \u001b[0;36mNGram.add_char\u001b[1;34m(self, ch)\u001b[0m\n\u001b[0;32m     41\u001b[0m     \u001b[38;5;28mself\u001b[39m\u001b[38;5;241m.\u001b[39mgrams \u001b[38;5;241m=\u001b[39m \u001b[38;5;28mself\u001b[39m\u001b[38;5;241m.\u001b[39mgrams[\u001b[38;5;241m1\u001b[39m:]\n\u001b[0;32m     42\u001b[0m \u001b[38;5;28mself\u001b[39m\u001b[38;5;241m.\u001b[39mgrams \u001b[38;5;241m+\u001b[39m\u001b[38;5;241m=\u001b[39m ch\n\u001b[1;32m---> 44\u001b[0m \u001b[38;5;28;01mif\u001b[39;00m \u001b[43mch\u001b[49m\u001b[38;5;241;43m.\u001b[39;49m\u001b[43misupper\u001b[49m\u001b[43m(\u001b[49m\u001b[43m)\u001b[49m:\n\u001b[0;32m     45\u001b[0m     \u001b[38;5;28;01mif\u001b[39;00m last_char\u001b[38;5;241m.\u001b[39misupper():\n\u001b[0;32m     46\u001b[0m         \u001b[38;5;28mself\u001b[39m\u001b[38;5;241m.\u001b[39mcapitalword \u001b[38;5;241m=\u001b[39m \u001b[38;5;28;01mTrue\u001b[39;00m\n",
      "\u001b[1;31mKeyboardInterrupt\u001b[0m: "
     ]
    }
   ],
   "source": [
    "btc_articles['language']= detect_languages(btc_articles,'text')"
   ]
  },
  {
   "cell_type": "code",
   "execution_count": 114,
   "id": "7f8e41b3",
   "metadata": {},
   "outputs": [],
   "source": [
    "btc_articles = btc_articles[btc_articles.language =='en']"
   ]
  },
  {
   "cell_type": "code",
   "execution_count": 115,
   "id": "1507e63e",
   "metadata": {},
   "outputs": [
    {
     "name": "stdout",
     "output_type": "stream",
     "text": [
      "<class 'pandas.core.frame.DataFrame'>\n",
      "Int64Index: 34193 entries, 0 to 34464\n",
      "Data columns (total 9 columns):\n",
      " #   Column    Non-Null Count  Dtype         \n",
      "---  ------    --------------  -----         \n",
      " 0   coin      34193 non-null  object        \n",
      " 1   section   34193 non-null  object        \n",
      " 2   title     34193 non-null  object        \n",
      " 3   text      34193 non-null  object        \n",
      " 4   url       34193 non-null  object        \n",
      " 5   source    34193 non-null  object        \n",
      " 6   date      34193 non-null  datetime64[ns]\n",
      " 7   time      34193 non-null  object        \n",
      " 8   language  34193 non-null  object        \n",
      "dtypes: datetime64[ns](1), object(8)\n",
      "memory usage: 2.6+ MB\n"
     ]
    }
   ],
   "source": [
    "btc_articles.info()"
   ]
  },
  {
   "cell_type": "code",
   "execution_count": 116,
   "id": "7193210d",
   "metadata": {
    "scrolled": true
   },
   "outputs": [
    {
     "data": {
      "text/html": [
       "<div>\n",
       "<style scoped>\n",
       "    .dataframe tbody tr th:only-of-type {\n",
       "        vertical-align: middle;\n",
       "    }\n",
       "\n",
       "    .dataframe tbody tr th {\n",
       "        vertical-align: top;\n",
       "    }\n",
       "\n",
       "    .dataframe thead th {\n",
       "        text-align: right;\n",
       "    }\n",
       "</style>\n",
       "<table border=\"1\" class=\"dataframe\">\n",
       "  <thead>\n",
       "    <tr style=\"text-align: right;\">\n",
       "      <th></th>\n",
       "      <th>coin</th>\n",
       "      <th>section</th>\n",
       "      <th>title</th>\n",
       "      <th>text</th>\n",
       "      <th>url</th>\n",
       "      <th>source</th>\n",
       "      <th>date</th>\n",
       "      <th>time</th>\n",
       "      <th>language</th>\n",
       "    </tr>\n",
       "  </thead>\n",
       "  <tbody>\n",
       "    <tr>\n",
       "      <th>8922</th>\n",
       "      <td>bitcoin</td>\n",
       "      <td>Business</td>\n",
       "      <td>NY Regulator Argues BitLicense Regulation Boos...</td>\n",
       "      <td>The New York State Department of Financial Ser...</td>\n",
       "      <td>https://www.coindesk.com/business/2018/04/12/n...</td>\n",
       "      <td>coindesk</td>\n",
       "      <td>2018-04-12</td>\n",
       "      <td>16:30:00</td>\n",
       "      <td>en</td>\n",
       "    </tr>\n",
       "    <tr>\n",
       "      <th>3912</th>\n",
       "      <td>bitcoin</td>\n",
       "      <td>Markets</td>\n",
       "      <td>T-Mobile Poland Trials Bitcoin Top-Ups for Mob...</td>\n",
       "      <td>T-Mobile Poland customers can now purchase pre...</td>\n",
       "      <td>https://www.coindesk.com/markets/2015/02/25/t-...</td>\n",
       "      <td>coindesk</td>\n",
       "      <td>2015-02-25</td>\n",
       "      <td>15:20:00</td>\n",
       "      <td>en</td>\n",
       "    </tr>\n",
       "    <tr>\n",
       "      <th>28551</th>\n",
       "      <td>bitcoin</td>\n",
       "      <td>Business</td>\n",
       "      <td>Bitcoin Miner TeraWulf Sets 2022 Hashrate Guid...</td>\n",
       "      <td>TeraWulf (WULF), the environmentally minded bi...</td>\n",
       "      <td>https://www.coindesk.com/business/2022/03/17/b...</td>\n",
       "      <td>coindesk</td>\n",
       "      <td>2022-03-17</td>\n",
       "      <td>23:01:00</td>\n",
       "      <td>en</td>\n",
       "    </tr>\n",
       "    <tr>\n",
       "      <th>4246</th>\n",
       "      <td>bitcoin</td>\n",
       "      <td>Markets</td>\n",
       "      <td>Consensus 2015: DOJ's Kathryn Haun to Discuss ...</td>\n",
       "      <td>Consensus 2015 The Silk Road case will make he...</td>\n",
       "      <td>https://www.coindesk.com/markets/2015/05/27/co...</td>\n",
       "      <td>coindesk</td>\n",
       "      <td>2015-05-27</td>\n",
       "      <td>10:28:00</td>\n",
       "      <td>en</td>\n",
       "    </tr>\n",
       "    <tr>\n",
       "      <th>25290</th>\n",
       "      <td>bitcoin</td>\n",
       "      <td>Opinion</td>\n",
       "      <td>Contango Conmigo: Why a Bitcoin Futures ETF Co...</td>\n",
       "      <td>Since at least 2013, when the Winklevoss twins...</td>\n",
       "      <td>https://www.coindesk.com/policy/2021/10/20/con...</td>\n",
       "      <td>coindesk</td>\n",
       "      <td>2021-10-20</td>\n",
       "      <td>16:21:00</td>\n",
       "      <td>en</td>\n",
       "    </tr>\n",
       "  </tbody>\n",
       "</table>\n",
       "</div>"
      ],
      "text/plain": [
       "          coin   section                                              title  \\\n",
       "8922   bitcoin  Business  NY Regulator Argues BitLicense Regulation Boos...   \n",
       "3912   bitcoin   Markets  T-Mobile Poland Trials Bitcoin Top-Ups for Mob...   \n",
       "28551  bitcoin  Business  Bitcoin Miner TeraWulf Sets 2022 Hashrate Guid...   \n",
       "4246   bitcoin   Markets  Consensus 2015: DOJ's Kathryn Haun to Discuss ...   \n",
       "25290  bitcoin   Opinion  Contango Conmigo: Why a Bitcoin Futures ETF Co...   \n",
       "\n",
       "                                                    text  \\\n",
       "8922   The New York State Department of Financial Ser...   \n",
       "3912   T-Mobile Poland customers can now purchase pre...   \n",
       "28551  TeraWulf (WULF), the environmentally minded bi...   \n",
       "4246   Consensus 2015 The Silk Road case will make he...   \n",
       "25290  Since at least 2013, when the Winklevoss twins...   \n",
       "\n",
       "                                                     url    source       date  \\\n",
       "8922   https://www.coindesk.com/business/2018/04/12/n...  coindesk 2018-04-12   \n",
       "3912   https://www.coindesk.com/markets/2015/02/25/t-...  coindesk 2015-02-25   \n",
       "28551  https://www.coindesk.com/business/2022/03/17/b...  coindesk 2022-03-17   \n",
       "4246   https://www.coindesk.com/markets/2015/05/27/co...  coindesk 2015-05-27   \n",
       "25290  https://www.coindesk.com/policy/2021/10/20/con...  coindesk 2021-10-20   \n",
       "\n",
       "           time language  \n",
       "8922   16:30:00       en  \n",
       "3912   15:20:00       en  \n",
       "28551  23:01:00       en  \n",
       "4246   10:28:00       en  \n",
       "25290  16:21:00       en  "
      ]
     },
     "execution_count": 116,
     "metadata": {},
     "output_type": "execute_result"
    }
   ],
   "source": [
    "btc_articles.sample(5)"
   ]
  },
  {
   "cell_type": "code",
   "execution_count": 117,
   "id": "ff241cb8",
   "metadata": {
    "scrolled": true
   },
   "outputs": [
    {
     "name": "stdout",
     "output_type": "stream",
     "text": [
      "Unique dates: 3467\n",
      "Min date 2013-04-01 00:00:00\n",
      "Max date 2022-12-30 00:00:00\n",
      "Articles over 9.746948944879088 Years\n"
     ]
    }
   ],
   "source": [
    "# Unqiue dates\n",
    "print('Unique dates:', btc_articles.date.nunique())\n",
    "min_date = min(btc_articles.date)\n",
    "max_date = max(btc_articles.date)\n",
    "years = (max_date - min_date).total_seconds() / (365.2425 * 24 * 60 * 60)\n",
    "print('Min date', min_date)\n",
    "print('Max date', max_date)\n",
    "print(f'Articles over {years} Years')"
   ]
  },
  {
   "cell_type": "markdown",
   "id": "2b7f6a05",
   "metadata": {},
   "source": [
    "## XRP"
   ]
  },
  {
   "cell_type": "code",
   "execution_count": null,
   "id": "093d6639",
   "metadata": {},
   "outputs": [
    {
     "name": "stdout",
     "output_type": "stream",
     "text": [
      "<class 'pandas.core.frame.DataFrame'>\n",
      "RangeIndex: 3991 entries, 0 to 3990\n",
      "Data columns (total 8 columns):\n",
      " #   Column   Non-Null Count  Dtype         \n",
      "---  ------   --------------  -----         \n",
      " 0   coin     3991 non-null   object        \n",
      " 1   section  1987 non-null   object        \n",
      " 2   title    3991 non-null   object        \n",
      " 3   text     3991 non-null   object        \n",
      " 4   url      3991 non-null   object        \n",
      " 5   source   3991 non-null   object        \n",
      " 6   date     3991 non-null   datetime64[ns]\n",
      " 7   time     3991 non-null   object        \n",
      "dtypes: datetime64[ns](1), object(7)\n",
      "memory usage: 249.6+ KB\n"
     ]
    }
   ],
   "source": [
    "xrp_articles = pd.concat([coindesk_xrp_articles, utoday_xrp_articles, cointelegraph_xrp_articles])\n",
    "xrp_articles.date = pd.to_datetime(xrp_articles.date, infer_datetime_format=True)\n",
    "xrp_articles = xrp_articles.sort_values('date').reset_index(drop=True)\n",
    "xrp_articles.info()"
   ]
  },
  {
   "cell_type": "code",
   "execution_count": null,
   "id": "17211573",
   "metadata": {},
   "outputs": [
    {
     "data": {
      "text/plain": [
       "coin       False\n",
       "section     True\n",
       "title      False\n",
       "text       False\n",
       "url        False\n",
       "source     False\n",
       "date       False\n",
       "time       False\n",
       "dtype: bool"
      ]
     },
     "execution_count": 120,
     "metadata": {},
     "output_type": "execute_result"
    }
   ],
   "source": [
    "xrp_articles.isna().any()"
   ]
  },
  {
   "cell_type": "code",
   "execution_count": null,
   "id": "a7bd98f2",
   "metadata": {},
   "outputs": [],
   "source": [
    "xrp_articles.loc[xrp_articles.section.isna(), 'section'] = 'No Section'"
   ]
  },
  {
   "cell_type": "code",
   "execution_count": null,
   "id": "1226074b",
   "metadata": {
    "scrolled": false
   },
   "outputs": [],
   "source": [
    "xrp_articles['language']= detect_languages(xrp_articles,'text')"
   ]
  },
  {
   "cell_type": "code",
   "execution_count": null,
   "id": "90ef13f3",
   "metadata": {},
   "outputs": [],
   "source": [
    "xrp_articles = xrp_articles[xrp_articles.language=='en']"
   ]
  },
  {
   "cell_type": "code",
   "execution_count": null,
   "id": "0d3c0f7b",
   "metadata": {},
   "outputs": [
    {
     "name": "stdout",
     "output_type": "stream",
     "text": [
      "<class 'pandas.core.frame.DataFrame'>\n",
      "Int64Index: 3990 entries, 0 to 3990\n",
      "Data columns (total 9 columns):\n",
      " #   Column    Non-Null Count  Dtype         \n",
      "---  ------    --------------  -----         \n",
      " 0   coin      3990 non-null   object        \n",
      " 1   section   3990 non-null   object        \n",
      " 2   title     3990 non-null   object        \n",
      " 3   text      3990 non-null   object        \n",
      " 4   url       3990 non-null   object        \n",
      " 5   source    3990 non-null   object        \n",
      " 6   date      3990 non-null   datetime64[ns]\n",
      " 7   time      3990 non-null   object        \n",
      " 8   language  3990 non-null   object        \n",
      "dtypes: datetime64[ns](1), object(8)\n",
      "memory usage: 311.7+ KB\n"
     ]
    }
   ],
   "source": [
    "xrp_articles.info()"
   ]
  },
  {
   "cell_type": "code",
   "execution_count": null,
   "id": "75c9f573",
   "metadata": {},
   "outputs": [
    {
     "name": "stdout",
     "output_type": "stream",
     "text": [
      "Unique dates: 1703\n",
      "Min date 2013-06-05 00:00:00\n",
      "Max date 2022-12-28 00:00:00\n",
      "Articles over 9.563509175410859 Years\n"
     ]
    }
   ],
   "source": [
    "# Unqiue dates\n",
    "print('Unique dates:', xrp_articles.date.nunique())\n",
    "min_date = min(xrp_articles.date)\n",
    "max_date = max(xrp_articles.date)\n",
    "years = (max_date - min_date).total_seconds() / (365.2425 * 24 * 60 * 60)\n",
    "print('Min date', min_date)\n",
    "print('Max date', max_date)\n",
    "print(f'Articles over {years} Years')"
   ]
  },
  {
   "cell_type": "markdown",
   "id": "b26a38dc",
   "metadata": {},
   "source": [
    "## Ethereum"
   ]
  },
  {
   "cell_type": "code",
   "execution_count": null,
   "id": "02f633a8",
   "metadata": {
    "scrolled": false
   },
   "outputs": [
    {
     "name": "stdout",
     "output_type": "stream",
     "text": [
      "<class 'pandas.core.frame.DataFrame'>\n",
      "RangeIndex: 5171 entries, 0 to 5170\n",
      "Data columns (total 8 columns):\n",
      " #   Column   Non-Null Count  Dtype         \n",
      "---  ------   --------------  -----         \n",
      " 0   coin     5171 non-null   object        \n",
      " 1   section  3680 non-null   object        \n",
      " 2   title    5171 non-null   object        \n",
      " 3   text     5171 non-null   object        \n",
      " 4   url      5171 non-null   object        \n",
      " 5   source   5171 non-null   object        \n",
      " 6   date     5171 non-null   datetime64[ns]\n",
      " 7   time     5171 non-null   object        \n",
      "dtypes: datetime64[ns](1), object(7)\n",
      "memory usage: 323.3+ KB\n"
     ]
    }
   ],
   "source": [
    "eth_articles = pd.concat([coindesk_eth_articles, utoday_eth_articles, cointelegraph_eth_articles])\n",
    "eth_articles.date = pd.to_datetime(eth_articles.date, infer_datetime_format=True)\n",
    "eth_articles = eth_articles.sort_values('date').reset_index(drop=True)\n",
    "eth_articles.info()"
   ]
  },
  {
   "cell_type": "code",
   "execution_count": null,
   "id": "486e9ed2",
   "metadata": {
    "scrolled": true
   },
   "outputs": [
    {
     "data": {
      "text/plain": [
       "coin       False\n",
       "section     True\n",
       "title      False\n",
       "text       False\n",
       "url        False\n",
       "source     False\n",
       "date       False\n",
       "time       False\n",
       "dtype: bool"
      ]
     },
     "execution_count": 135,
     "metadata": {},
     "output_type": "execute_result"
    }
   ],
   "source": [
    "eth_articles.isna().any()"
   ]
  },
  {
   "cell_type": "code",
   "execution_count": null,
   "id": "79c41bb4",
   "metadata": {},
   "outputs": [],
   "source": [
    "eth_articles.loc[eth_articles.section.isna(), 'section'] = 'No Section'"
   ]
  },
  {
   "cell_type": "code",
   "execution_count": null,
   "id": "b9c20be1",
   "metadata": {
    "scrolled": true
   },
   "outputs": [],
   "source": [
    "eth_articles['language']= detect_languages(eth_articles,'text')"
   ]
  },
  {
   "cell_type": "code",
   "execution_count": null,
   "id": "29370309",
   "metadata": {},
   "outputs": [],
   "source": [
    "eth_articles = eth_articles[eth_articles.language=='en']"
   ]
  },
  {
   "cell_type": "code",
   "execution_count": null,
   "id": "4753ed7e",
   "metadata": {},
   "outputs": [
    {
     "name": "stdout",
     "output_type": "stream",
     "text": [
      "<class 'pandas.core.frame.DataFrame'>\n",
      "Int64Index: 5129 entries, 0 to 5170\n",
      "Data columns (total 9 columns):\n",
      " #   Column    Non-Null Count  Dtype         \n",
      "---  ------    --------------  -----         \n",
      " 0   coin      5129 non-null   object        \n",
      " 1   section   5129 non-null   object        \n",
      " 2   title     5129 non-null   object        \n",
      " 3   text      5129 non-null   object        \n",
      " 4   url       5129 non-null   object        \n",
      " 5   source    5129 non-null   object        \n",
      " 6   date      5129 non-null   datetime64[ns]\n",
      " 7   time      5129 non-null   object        \n",
      " 8   language  5129 non-null   object        \n",
      "dtypes: datetime64[ns](1), object(8)\n",
      "memory usage: 400.7+ KB\n"
     ]
    }
   ],
   "source": [
    "eth_articles.info()"
   ]
  },
  {
   "cell_type": "code",
   "execution_count": null,
   "id": "66d4dc39",
   "metadata": {},
   "outputs": [
    {
     "data": {
      "text/html": [
       "<div>\n",
       "<style scoped>\n",
       "    .dataframe tbody tr th:only-of-type {\n",
       "        vertical-align: middle;\n",
       "    }\n",
       "\n",
       "    .dataframe tbody tr th {\n",
       "        vertical-align: top;\n",
       "    }\n",
       "\n",
       "    .dataframe thead th {\n",
       "        text-align: right;\n",
       "    }\n",
       "</style>\n",
       "<table border=\"1\" class=\"dataframe\">\n",
       "  <thead>\n",
       "    <tr style=\"text-align: right;\">\n",
       "      <th></th>\n",
       "      <th>coin</th>\n",
       "      <th>section</th>\n",
       "      <th>title</th>\n",
       "      <th>text</th>\n",
       "      <th>url</th>\n",
       "      <th>source</th>\n",
       "      <th>date</th>\n",
       "      <th>time</th>\n",
       "      <th>language</th>\n",
       "    </tr>\n",
       "  </thead>\n",
       "  <tbody>\n",
       "    <tr>\n",
       "      <th>35</th>\n",
       "      <td>ethereum</td>\n",
       "      <td>Markets</td>\n",
       "      <td>Digital Currency Exchange Gatecoin Offline Aft...</td>\n",
       "      <td>UPDATE (14th May 11:40 BST):  This piece has b...</td>\n",
       "      <td>https://www.coindesk.com/markets/2016/05/13/di...</td>\n",
       "      <td>coindesk</td>\n",
       "      <td>2016-05-13</td>\n",
       "      <td>22:50:00</td>\n",
       "      <td>en</td>\n",
       "    </tr>\n",
       "    <tr>\n",
       "      <th>4588</th>\n",
       "      <td>ethereum</td>\n",
       "      <td>Markets</td>\n",
       "      <td>Large Ether Traders Position for Volatility Sp...</td>\n",
       "      <td>Taking unhedged or hedged directional bets on ...</td>\n",
       "      <td>https://www.coindesk.com/markets/2022/08/26/la...</td>\n",
       "      <td>coindesk</td>\n",
       "      <td>2022-08-26</td>\n",
       "      <td>12:23:00</td>\n",
       "      <td>en</td>\n",
       "    </tr>\n",
       "    <tr>\n",
       "      <th>1982</th>\n",
       "      <td>ethereum</td>\n",
       "      <td>Business</td>\n",
       "      <td>Signature Bank Gains $1B Deposits in Q3, With ...</td>\n",
       "      <td>The Takeaway: Deposits at crypto-friendly Sign...</td>\n",
       "      <td>https://www.coindesk.com/business/2020/10/20/s...</td>\n",
       "      <td>coindesk</td>\n",
       "      <td>2020-10-20</td>\n",
       "      <td>13:51:00</td>\n",
       "      <td>en</td>\n",
       "    </tr>\n",
       "    <tr>\n",
       "      <th>4277</th>\n",
       "      <td>ethereum</td>\n",
       "      <td>No Section</td>\n",
       "      <td>Ethereum's Arbitrum to Be Used by Norwegian Go...</td>\n",
       "      <td>For the first time, a major country has begun ...</td>\n",
       "      <td>https://u.today/ethereums-arbitrum-to-be-used-...</td>\n",
       "      <td>utoday</td>\n",
       "      <td>2022-06-25</td>\n",
       "      <td>16:45:00</td>\n",
       "      <td>en</td>\n",
       "    </tr>\n",
       "    <tr>\n",
       "      <th>403</th>\n",
       "      <td>ethereum</td>\n",
       "      <td>Features</td>\n",
       "      <td>Brazil's Central Bank Is Ramping Up Blockchain...</td>\n",
       "      <td>The Central Bank of Brazil is building with ju...</td>\n",
       "      <td>https://www.coindesk.com/markets/2017/11/13/br...</td>\n",
       "      <td>coindesk</td>\n",
       "      <td>2017-11-13</td>\n",
       "      <td>13:00:00</td>\n",
       "      <td>en</td>\n",
       "    </tr>\n",
       "  </tbody>\n",
       "</table>\n",
       "</div>"
      ],
      "text/plain": [
       "          coin     section                                              title  \\\n",
       "35    ethereum     Markets  Digital Currency Exchange Gatecoin Offline Aft...   \n",
       "4588  ethereum     Markets  Large Ether Traders Position for Volatility Sp...   \n",
       "1982  ethereum    Business  Signature Bank Gains $1B Deposits in Q3, With ...   \n",
       "4277  ethereum  No Section  Ethereum's Arbitrum to Be Used by Norwegian Go...   \n",
       "403   ethereum    Features  Brazil's Central Bank Is Ramping Up Blockchain...   \n",
       "\n",
       "                                                   text  \\\n",
       "35    UPDATE (14th May 11:40 BST):  This piece has b...   \n",
       "4588  Taking unhedged or hedged directional bets on ...   \n",
       "1982  The Takeaway: Deposits at crypto-friendly Sign...   \n",
       "4277  For the first time, a major country has begun ...   \n",
       "403   The Central Bank of Brazil is building with ju...   \n",
       "\n",
       "                                                    url    source       date  \\\n",
       "35    https://www.coindesk.com/markets/2016/05/13/di...  coindesk 2016-05-13   \n",
       "4588  https://www.coindesk.com/markets/2022/08/26/la...  coindesk 2022-08-26   \n",
       "1982  https://www.coindesk.com/business/2020/10/20/s...  coindesk 2020-10-20   \n",
       "4277  https://u.today/ethereums-arbitrum-to-be-used-...    utoday 2022-06-25   \n",
       "403   https://www.coindesk.com/markets/2017/11/13/br...  coindesk 2017-11-13   \n",
       "\n",
       "          time language  \n",
       "35    22:50:00       en  \n",
       "4588  12:23:00       en  \n",
       "1982  13:51:00       en  \n",
       "4277  16:45:00       en  \n",
       "403   13:00:00       en  "
      ]
     },
     "execution_count": 144,
     "metadata": {},
     "output_type": "execute_result"
    }
   ],
   "source": [
    "eth_articles.sample(5)"
   ]
  },
  {
   "cell_type": "code",
   "execution_count": null,
   "id": "17ce3c65",
   "metadata": {},
   "outputs": [
    {
     "name": "stdout",
     "output_type": "stream",
     "text": [
      "Unique dates: 1755\n",
      "Min date 2015-10-06 00:00:00\n",
      "Max date 2022-12-28 00:00:00\n",
      "Articles over 7.228074498449661 Years\n"
     ]
    }
   ],
   "source": [
    "# Unqiue dates\n",
    "print('Unique dates:', eth_articles.date.nunique())\n",
    "min_date = min(eth_articles.date)\n",
    "max_date = max(eth_articles.date)\n",
    "years = (max_date - min_date).total_seconds() / (365.2425 * 24 * 60 * 60)\n",
    "print('Min date', min_date)\n",
    "print('Max date', max_date)\n",
    "print(f'Articles over {years} Years')"
   ]
  },
  {
   "cell_type": "markdown",
   "id": "7c9587b1",
   "metadata": {},
   "source": [
    "## Cardano"
   ]
  },
  {
   "cell_type": "code",
   "execution_count": null,
   "id": "d82f3d12",
   "metadata": {
    "scrolled": true
   },
   "outputs": [
    {
     "name": "stdout",
     "output_type": "stream",
     "text": [
      "<class 'pandas.core.frame.DataFrame'>\n",
      "RangeIndex: 1662 entries, 0 to 1661\n",
      "Data columns (total 8 columns):\n",
      " #   Column   Non-Null Count  Dtype         \n",
      "---  ------   --------------  -----         \n",
      " 0   coin     1662 non-null   object        \n",
      " 1   section  366 non-null    object        \n",
      " 2   title    1662 non-null   object        \n",
      " 3   text     1662 non-null   object        \n",
      " 4   url      1662 non-null   object        \n",
      " 5   source   1662 non-null   object        \n",
      " 6   date     1662 non-null   datetime64[ns]\n",
      " 7   time     1662 non-null   object        \n",
      "dtypes: datetime64[ns](1), object(7)\n",
      "memory usage: 104.0+ KB\n"
     ]
    }
   ],
   "source": [
    "ada_articles = pd.concat([coindesk_ada_articles, utoday_ada_articles, cointelegraph_ada_articles])\n",
    "ada_articles.date = pd.to_datetime(ada_articles.date, infer_datetime_format=True)\n",
    "ada_articles = ada_articles.sort_values('date').reset_index(drop=True)\n",
    "ada_articles.info()"
   ]
  },
  {
   "cell_type": "code",
   "execution_count": null,
   "id": "f3835555",
   "metadata": {
    "scrolled": false
   },
   "outputs": [
    {
     "data": {
      "text/plain": [
       "coin       False\n",
       "section     True\n",
       "title      False\n",
       "text       False\n",
       "url        False\n",
       "source     False\n",
       "date       False\n",
       "time       False\n",
       "dtype: bool"
      ]
     },
     "execution_count": 148,
     "metadata": {},
     "output_type": "execute_result"
    }
   ],
   "source": [
    "ada_articles.isna().any()"
   ]
  },
  {
   "cell_type": "code",
   "execution_count": null,
   "id": "b9e0a277",
   "metadata": {},
   "outputs": [],
   "source": [
    "ada_articles.loc[ada_articles.section.isna(), 'section'] = 'No Section'"
   ]
  },
  {
   "cell_type": "code",
   "execution_count": null,
   "id": "e3495fcb",
   "metadata": {},
   "outputs": [],
   "source": [
    "ada_articles['language']= detect_languages(ada_articles,'text')"
   ]
  },
  {
   "cell_type": "code",
   "execution_count": null,
   "id": "e8bd7486",
   "metadata": {},
   "outputs": [],
   "source": [
    "ada_articles = ada_articles[ada_articles.language=='en']"
   ]
  },
  {
   "cell_type": "code",
   "execution_count": null,
   "id": "e8f54069",
   "metadata": {},
   "outputs": [
    {
     "name": "stdout",
     "output_type": "stream",
     "text": [
      "<class 'pandas.core.frame.DataFrame'>\n",
      "Int64Index: 1661 entries, 0 to 1661\n",
      "Data columns (total 9 columns):\n",
      " #   Column    Non-Null Count  Dtype         \n",
      "---  ------    --------------  -----         \n",
      " 0   coin      1661 non-null   object        \n",
      " 1   section   1661 non-null   object        \n",
      " 2   title     1661 non-null   object        \n",
      " 3   text      1661 non-null   object        \n",
      " 4   url       1661 non-null   object        \n",
      " 5   source    1661 non-null   object        \n",
      " 6   date      1661 non-null   datetime64[ns]\n",
      " 7   time      1661 non-null   object        \n",
      " 8   language  1661 non-null   object        \n",
      "dtypes: datetime64[ns](1), object(8)\n",
      "memory usage: 129.8+ KB\n"
     ]
    }
   ],
   "source": [
    "ada_articles.info()"
   ]
  },
  {
   "cell_type": "code",
   "execution_count": null,
   "id": "98d55a65",
   "metadata": {
    "scrolled": true
   },
   "outputs": [
    {
     "data": {
      "text/html": [
       "<div>\n",
       "<style scoped>\n",
       "    .dataframe tbody tr th:only-of-type {\n",
       "        vertical-align: middle;\n",
       "    }\n",
       "\n",
       "    .dataframe tbody tr th {\n",
       "        vertical-align: top;\n",
       "    }\n",
       "\n",
       "    .dataframe thead th {\n",
       "        text-align: right;\n",
       "    }\n",
       "</style>\n",
       "<table border=\"1\" class=\"dataframe\">\n",
       "  <thead>\n",
       "    <tr style=\"text-align: right;\">\n",
       "      <th></th>\n",
       "      <th>coin</th>\n",
       "      <th>section</th>\n",
       "      <th>title</th>\n",
       "      <th>text</th>\n",
       "      <th>url</th>\n",
       "      <th>source</th>\n",
       "      <th>date</th>\n",
       "      <th>time</th>\n",
       "      <th>language</th>\n",
       "    </tr>\n",
       "  </thead>\n",
       "  <tbody>\n",
       "    <tr>\n",
       "      <th>114</th>\n",
       "      <td>cardano</td>\n",
       "      <td>No Section</td>\n",
       "      <td>Cardano (ADA) Releases Upgraded Byron Codebase...</td>\n",
       "      <td>The Byron 'reboot', which will be available on...</td>\n",
       "      <td>https://u.today/cardano-ada-releases-upgraded-...</td>\n",
       "      <td>utoday</td>\n",
       "      <td>2020-03-27</td>\n",
       "      <td>14:46:00</td>\n",
       "      <td>en</td>\n",
       "    </tr>\n",
       "    <tr>\n",
       "      <th>546</th>\n",
       "      <td>cardano</td>\n",
       "      <td>No Section</td>\n",
       "      <td>Hoskinson Talks Digitization with Ethiopian Mi...</td>\n",
       "      <td>On his Cardano tour taking place in Africa, co...</td>\n",
       "      <td>https://u.today/hoskinson-talks-digitization-w...</td>\n",
       "      <td>utoday</td>\n",
       "      <td>2021-10-28</td>\n",
       "      <td>12:53:00</td>\n",
       "      <td>en</td>\n",
       "    </tr>\n",
       "    <tr>\n",
       "      <th>402</th>\n",
       "      <td>cardano</td>\n",
       "      <td>No Section</td>\n",
       "      <td>Cardano (ADA) Developers Introduce New Token T...</td>\n",
       "      <td>Cardano Foundation pioneers the concept of Non...</td>\n",
       "      <td>https://u.today/cardano-ada-developers-introdu...</td>\n",
       "      <td>utoday</td>\n",
       "      <td>2021-08-11</td>\n",
       "      <td>15:26:00</td>\n",
       "      <td>en</td>\n",
       "    </tr>\n",
       "    <tr>\n",
       "      <th>599</th>\n",
       "      <td>cardano</td>\n",
       "      <td>No Section</td>\n",
       "      <td>ADA Price Approaches Critical Threshold as Car...</td>\n",
       "      <td>Cardano  Foundation lauds 13 major notable col...</td>\n",
       "      <td>https://u.today/ada-price-approaches-critical-...</td>\n",
       "      <td>utoday</td>\n",
       "      <td>2021-12-27</td>\n",
       "      <td>13:52:00</td>\n",
       "      <td>en</td>\n",
       "    </tr>\n",
       "    <tr>\n",
       "      <th>23</th>\n",
       "      <td>cardano</td>\n",
       "      <td>News</td>\n",
       "      <td>Crypto Markets See Solid Upswing, Bitcoin Pus...</td>\n",
       "      <td>Crypto markets are seeing mostly green today, ...</td>\n",
       "      <td>https://cointelegraph.com/news/crypto-markets-...</td>\n",
       "      <td>cointelegraph</td>\n",
       "      <td>2018-07-21</td>\n",
       "      <td>00:00:00</td>\n",
       "      <td>en</td>\n",
       "    </tr>\n",
       "  </tbody>\n",
       "</table>\n",
       "</div>"
      ],
      "text/plain": [
       "        coin     section                                              title  \\\n",
       "114  cardano  No Section  Cardano (ADA) Releases Upgraded Byron Codebase...   \n",
       "546  cardano  No Section  Hoskinson Talks Digitization with Ethiopian Mi...   \n",
       "402  cardano  No Section  Cardano (ADA) Developers Introduce New Token T...   \n",
       "599  cardano  No Section  ADA Price Approaches Critical Threshold as Car...   \n",
       "23   cardano       News    Crypto Markets See Solid Upswing, Bitcoin Pus...   \n",
       "\n",
       "                                                  text  \\\n",
       "114  The Byron 'reboot', which will be available on...   \n",
       "546  On his Cardano tour taking place in Africa, co...   \n",
       "402  Cardano Foundation pioneers the concept of Non...   \n",
       "599  Cardano  Foundation lauds 13 major notable col...   \n",
       "23   Crypto markets are seeing mostly green today, ...   \n",
       "\n",
       "                                                   url         source  \\\n",
       "114  https://u.today/cardano-ada-releases-upgraded-...         utoday   \n",
       "546  https://u.today/hoskinson-talks-digitization-w...         utoday   \n",
       "402  https://u.today/cardano-ada-developers-introdu...         utoday   \n",
       "599  https://u.today/ada-price-approaches-critical-...         utoday   \n",
       "23   https://cointelegraph.com/news/crypto-markets-...  cointelegraph   \n",
       "\n",
       "          date      time language  \n",
       "114 2020-03-27  14:46:00       en  \n",
       "546 2021-10-28  12:53:00       en  \n",
       "402 2021-08-11  15:26:00       en  \n",
       "599 2021-12-27  13:52:00       en  \n",
       "23  2018-07-21  00:00:00       en  "
      ]
     },
     "execution_count": 157,
     "metadata": {},
     "output_type": "execute_result"
    }
   ],
   "source": [
    "ada_articles.sample(5)"
   ]
  },
  {
   "cell_type": "code",
   "execution_count": null,
   "id": "4a60cc2e",
   "metadata": {
    "scrolled": true
   },
   "outputs": [
    {
     "name": "stdout",
     "output_type": "stream",
     "text": [
      "Unique dates: 756\n",
      "Min date 2017-01-03 00:00:00\n",
      "Max date 2022-12-28 00:00:00\n",
      "Articles over 5.98232681026989 Years\n"
     ]
    }
   ],
   "source": [
    "# Unqiue dates\n",
    "print('Unique dates:', ada_articles.date.nunique())\n",
    "min_date = min(ada_articles.date)\n",
    "max_date = max(ada_articles.date)\n",
    "years = (max_date - min_date).total_seconds() / (365.2425 * 24 * 60 * 60)\n",
    "print('Min date', min_date)\n",
    "print('Max date', max_date)\n",
    "print(f'Articles over {years} Years')"
   ]
  },
  {
   "cell_type": "markdown",
   "id": "3edbdfc3",
   "metadata": {},
   "source": [
    "## Binance"
   ]
  },
  {
   "cell_type": "code",
   "execution_count": null,
   "id": "4a66caf6",
   "metadata": {
    "scrolled": false
   },
   "outputs": [
    {
     "name": "stdout",
     "output_type": "stream",
     "text": [
      "<class 'pandas.core.frame.DataFrame'>\n",
      "RangeIndex: 285 entries, 0 to 284\n",
      "Data columns (total 8 columns):\n",
      " #   Column   Non-Null Count  Dtype         \n",
      "---  ------   --------------  -----         \n",
      " 0   coin     285 non-null    object        \n",
      " 1   section  285 non-null    object        \n",
      " 2   title    285 non-null    object        \n",
      " 3   text     285 non-null    object        \n",
      " 4   url      285 non-null    object        \n",
      " 5   source   285 non-null    object        \n",
      " 6   date     285 non-null    datetime64[ns]\n",
      " 7   time     285 non-null    object        \n",
      "dtypes: datetime64[ns](1), object(7)\n",
      "memory usage: 17.9+ KB\n"
     ]
    }
   ],
   "source": [
    "bnb_articles = pd.concat([coindesk_bnb_articles, cointelegraph_bnb_articles])\n",
    "bnb_articles.date = pd.to_datetime(bnb_articles.date, infer_datetime_format=True)\n",
    "bnb_articles = bnb_articles.sort_values('date').reset_index(drop=True)\n",
    "bnb_articles.info()"
   ]
  },
  {
   "cell_type": "code",
   "execution_count": null,
   "id": "10ddffc7",
   "metadata": {},
   "outputs": [],
   "source": [
    "bnb_articles['language']= detect_languages(bnb_articles,'text')"
   ]
  },
  {
   "cell_type": "code",
   "execution_count": null,
   "id": "96f45906",
   "metadata": {},
   "outputs": [],
   "source": [
    "bnb_articles = bnb_articles[bnb_articles.language == 'en']"
   ]
  },
  {
   "cell_type": "code",
   "execution_count": null,
   "id": "23afacb8",
   "metadata": {},
   "outputs": [
    {
     "name": "stdout",
     "output_type": "stream",
     "text": [
      "<class 'pandas.core.frame.DataFrame'>\n",
      "Int64Index: 284 entries, 0 to 284\n",
      "Data columns (total 9 columns):\n",
      " #   Column    Non-Null Count  Dtype         \n",
      "---  ------    --------------  -----         \n",
      " 0   coin      284 non-null    object        \n",
      " 1   section   284 non-null    object        \n",
      " 2   title     284 non-null    object        \n",
      " 3   text      284 non-null    object        \n",
      " 4   url       284 non-null    object        \n",
      " 5   source    284 non-null    object        \n",
      " 6   date      284 non-null    datetime64[ns]\n",
      " 7   time      284 non-null    object        \n",
      " 8   language  284 non-null    object        \n",
      "dtypes: datetime64[ns](1), object(8)\n",
      "memory usage: 22.2+ KB\n"
     ]
    }
   ],
   "source": [
    "bnb_articles.info()"
   ]
  },
  {
   "cell_type": "code",
   "execution_count": null,
   "id": "c91341af",
   "metadata": {
    "scrolled": true
   },
   "outputs": [
    {
     "data": {
      "text/html": [
       "<div>\n",
       "<style scoped>\n",
       "    .dataframe tbody tr th:only-of-type {\n",
       "        vertical-align: middle;\n",
       "    }\n",
       "\n",
       "    .dataframe tbody tr th {\n",
       "        vertical-align: top;\n",
       "    }\n",
       "\n",
       "    .dataframe thead th {\n",
       "        text-align: right;\n",
       "    }\n",
       "</style>\n",
       "<table border=\"1\" class=\"dataframe\">\n",
       "  <thead>\n",
       "    <tr style=\"text-align: right;\">\n",
       "      <th></th>\n",
       "      <th>coin</th>\n",
       "      <th>section</th>\n",
       "      <th>title</th>\n",
       "      <th>text</th>\n",
       "      <th>url</th>\n",
       "      <th>source</th>\n",
       "      <th>date</th>\n",
       "      <th>time</th>\n",
       "      <th>language</th>\n",
       "    </tr>\n",
       "  </thead>\n",
       "  <tbody>\n",
       "    <tr>\n",
       "      <th>189</th>\n",
       "      <td>binance</td>\n",
       "      <td>Altcoin Watch</td>\n",
       "      <td>Here’s why Binance Coin is 33% down from its ...</td>\n",
       "      <td>Binance Coin ( BNB ) holders enjoyed a 1,760% ...</td>\n",
       "      <td>https://cointelegraph.com/news/here-s-why-bina...</td>\n",
       "      <td>cointelegraph</td>\n",
       "      <td>2022-01-19</td>\n",
       "      <td>00:00:00</td>\n",
       "      <td>en</td>\n",
       "    </tr>\n",
       "    <tr>\n",
       "      <th>152</th>\n",
       "      <td>binance</td>\n",
       "      <td>Altcoin Watch</td>\n",
       "      <td>Binance Coin regains 20% in a day: Why is BNB...</td>\n",
       "      <td>The price of Binance Coin ( BNB ), the native ...</td>\n",
       "      <td>https://cointelegraph.com/news/binance-coin-re...</td>\n",
       "      <td>cointelegraph</td>\n",
       "      <td>2021-04-19</td>\n",
       "      <td>00:00:00</td>\n",
       "      <td>en</td>\n",
       "    </tr>\n",
       "    <tr>\n",
       "      <th>244</th>\n",
       "      <td>binance</td>\n",
       "      <td>Opinion</td>\n",
       "      <td>A Stablecoin Law May Not Happen This Year</td>\n",
       "      <td>Hey folks. Monday was a federal holiday in the...</td>\n",
       "      <td>https://www.coindesk.com/policy/2022/09/07/a-s...</td>\n",
       "      <td>coindesk</td>\n",
       "      <td>2022-09-07</td>\n",
       "      <td>17:30:00</td>\n",
       "      <td>en</td>\n",
       "    </tr>\n",
       "    <tr>\n",
       "      <th>148</th>\n",
       "      <td>binance</td>\n",
       "      <td>News</td>\n",
       "      <td>Messari researchers slam Binance Smart Chain ...</td>\n",
       "      <td>Despite Binance supporters celebrating Binance...</td>\n",
       "      <td>https://cointelegraph.com/news/messari-researc...</td>\n",
       "      <td>cointelegraph</td>\n",
       "      <td>2021-04-12</td>\n",
       "      <td>00:00:00</td>\n",
       "      <td>en</td>\n",
       "    </tr>\n",
       "    <tr>\n",
       "      <th>5</th>\n",
       "      <td>binance</td>\n",
       "      <td>Markets</td>\n",
       "      <td>Malta Passes Trio of Bills as Part of 'Blockch...</td>\n",
       "      <td>Malta has taken a significant step toward beco...</td>\n",
       "      <td>https://www.coindesk.com/markets/2018/06/27/ma...</td>\n",
       "      <td>coindesk</td>\n",
       "      <td>2018-06-27</td>\n",
       "      <td>14:45:00</td>\n",
       "      <td>en</td>\n",
       "    </tr>\n",
       "  </tbody>\n",
       "</table>\n",
       "</div>"
      ],
      "text/plain": [
       "        coin          section  \\\n",
       "189  binance   Altcoin Watch    \n",
       "152  binance   Altcoin Watch    \n",
       "244  binance          Opinion   \n",
       "148  binance            News    \n",
       "5    binance          Markets   \n",
       "\n",
       "                                                 title  \\\n",
       "189   Here’s why Binance Coin is 33% down from its ...   \n",
       "152   Binance Coin regains 20% in a day: Why is BNB...   \n",
       "244          A Stablecoin Law May Not Happen This Year   \n",
       "148   Messari researchers slam Binance Smart Chain ...   \n",
       "5    Malta Passes Trio of Bills as Part of 'Blockch...   \n",
       "\n",
       "                                                  text  \\\n",
       "189  Binance Coin ( BNB ) holders enjoyed a 1,760% ...   \n",
       "152  The price of Binance Coin ( BNB ), the native ...   \n",
       "244  Hey folks. Monday was a federal holiday in the...   \n",
       "148  Despite Binance supporters celebrating Binance...   \n",
       "5    Malta has taken a significant step toward beco...   \n",
       "\n",
       "                                                   url         source  \\\n",
       "189  https://cointelegraph.com/news/here-s-why-bina...  cointelegraph   \n",
       "152  https://cointelegraph.com/news/binance-coin-re...  cointelegraph   \n",
       "244  https://www.coindesk.com/policy/2022/09/07/a-s...       coindesk   \n",
       "148  https://cointelegraph.com/news/messari-researc...  cointelegraph   \n",
       "5    https://www.coindesk.com/markets/2018/06/27/ma...       coindesk   \n",
       "\n",
       "          date      time language  \n",
       "189 2022-01-19  00:00:00       en  \n",
       "152 2021-04-19  00:00:00       en  \n",
       "244 2022-09-07  17:30:00       en  \n",
       "148 2021-04-12  00:00:00       en  \n",
       "5   2018-06-27  14:45:00       en  "
      ]
     },
     "execution_count": 167,
     "metadata": {},
     "output_type": "execute_result"
    }
   ],
   "source": [
    "bnb_articles.sample(5)"
   ]
  },
  {
   "cell_type": "code",
   "execution_count": null,
   "id": "affa2159",
   "metadata": {
    "scrolled": false
   },
   "outputs": [
    {
     "name": "stdout",
     "output_type": "stream",
     "text": [
      "Unique dates: 246\n",
      "Min date 2018-04-15 00:00:00\n",
      "Max date 2022-12-26 00:00:00\n",
      "Articles over 4.69824842399228 Years\n"
     ]
    }
   ],
   "source": [
    "# Unqiue dates\n",
    "print('Unique dates:', bnb_articles.date.nunique())\n",
    "min_date = min(bnb_articles.date)\n",
    "max_date = max(bnb_articles.date)\n",
    "years = (max_date - min_date).total_seconds() / (365.2425 * 24 * 60 * 60)\n",
    "print('Min date', min_date)\n",
    "print('Max date', max_date)\n",
    "print(f'Articles over {years} Years')"
   ]
  },
  {
   "cell_type": "markdown",
   "id": "de02d203",
   "metadata": {},
   "source": [
    "## Save cleaned dfs"
   ]
  },
  {
   "cell_type": "code",
   "execution_count": null,
   "id": "b9649946",
   "metadata": {},
   "outputs": [],
   "source": [
    "dataframes = [btc_articles, xrp_articles, eth_articles, ada_articles, bnb_articles]\n",
    "filenames = ['btc_articles.csv', 'xrp_articles.csv', 'eth_articles.csv', 'ada_articles.csv', 'bnb_articles.csv']\n",
    "\n",
    "for df, filename in zip(dataframes, filenames):\n",
    "    filepath = os.path.join(BASE_DIR, 'Datasets', filename)\n",
    "    df.to_csv(filepath, index=False)"
   ]
  }
 ],
 "metadata": {
  "kernelspec": {
   "display_name": "Python 3 (ipykernel)",
   "language": "python",
   "name": "python3"
  },
  "language_info": {
   "codemirror_mode": {
    "name": "ipython",
    "version": 3
   },
   "file_extension": ".py",
   "mimetype": "text/x-python",
   "name": "python",
   "nbconvert_exporter": "python",
   "pygments_lexer": "ipython3",
   "version": "3.10.0"
  },
  "vscode": {
   "interpreter": {
    "hash": "9bb6f2e3da4faf4c2c81a66c0031b05f054b2c81d70b199bf65cd9daa2b10dfb"
   }
  }
 },
 "nbformat": 4,
 "nbformat_minor": 5
}
